{
  "nbformat": 4,
  "nbformat_minor": 0,
  "metadata": {
    "colab": {
      "name": "Search-Engine-NLP.ipynb",
      "provenance": [],
      "collapsed_sections": []
    },
    "kernelspec": {
      "name": "python3",
      "display_name": "Python 3"
    },
    "language_info": {
      "name": "python"
    },
    "accelerator": "GPU"
  },
  "cells": [
    {
      "cell_type": "markdown",
      "source": [
        "# Contextual search"
      ],
      "metadata": {
        "id": "qG97yGWh6HgC"
      }
    },
    {
      "cell_type": "code",
      "source": [
        "%%capture\n",
        "!pip install torchvision ipyplot git+https://github.com/neuml/txtai#egg=txtai[similarity]\n",
        "\n",
        "# Get test data\n",
        "!wget -N https://github.com/neuml/txtai/releases/download/v3.5.0/tests.tar.gz\n",
        "!tar -xvzf tests.tar.gz"
      ],
      "metadata": {
        "id": "zP_WZo7nuH--"
      },
      "execution_count": null,
      "outputs": []
    },
    {
      "cell_type": "code",
      "execution_count": null,
      "metadata": {
        "id": "qvnR-cJc5Y7Z"
      },
      "outputs": [],
      "source": [
        "import pandas as pd"
      ]
    },
    {
      "cell_type": "code",
      "source": [
        "data = \".\"\n",
        "df = pd.read_json(data)"
      ],
      "metadata": {
        "id": "sLlZyPuN7D8D"
      },
      "execution_count": null,
      "outputs": []
    },
    {
      "cell_type": "code",
      "source": [
        "df.sample(10)"
      ],
      "metadata": {
        "colab": {
          "base_uri": "https://localhost:8080/",
          "height": 1000
        },
        "id": "nWRsncFx7J1Y",
        "outputId": "7314b4e7-0e0e-403e-8cd5-af067be63c2f"
      },
      "execution_count": null,
      "outputs": [
        {
          "output_type": "execute_result",
          "data": {
            "text/plain": [
              "                                                    name  \\\n",
              "1828   Klipsch - Reference Dual 8\" Floorstanding Spea...   \n",
              "15184  BISSELL - MultiSurface Floor Cleaning Formula ...   \n",
              "16096    Apple - Sport Band for Apple Watch 38mm - Cocoa   \n",
              "11443  Whirlpool - Duet 7.4 Cu. Ft. 7-Cycle Gas Dryer...   \n",
              "12846  Insignia™ - Apple MFi Certified FM Transmitter...   \n",
              "3466             Brother - TN330 Toner Cartridge - Black   \n",
              "8365   Visual Land - Prestige Elite 10QL - 10.1\" - Ta...   \n",
              "5445   LG - 20.2 Cu. Ft. Top-Freezer Refrigerator - S...   \n",
              "10069  GE - Profile 36\" Built-in Gas Cooktop - Stainl...   \n",
              "2098            Mattel - Minecraft 5-inch Figure - Multi   \n",
              "\n",
              "                                             description        brand  \\\n",
              "1828   Utilizing dual 8\" copper-spun IMG woofers and ...      Klipsch   \n",
              "15184  Remove dirt and grime from floors in one clean...      BISSELL   \n",
              "16096  Made from high-performance fluoroelastomer,the...        Apple   \n",
              "11443  Efficiently remove moisture from a variety of ...    Whirlpool   \n",
              "12846  Connect this Insignia&#8482; NS-MA5FMT FM tran...    Insignia™   \n",
              "3466   Replace your depleted toner cartridge with thi...      Brother   \n",
              "8365   Visual Land Prestige Elite 10QL Tablet: Work, ...  Visual Land   \n",
              "5445   This LG LTCS20220W top-freezer refrigerator fe...           LG   \n",
              "10069  Cooking large meals at once is what this cookt...           GE   \n",
              "2098   Let this Minecraft Exploding Creeper action fi...       Mattel   \n",
              "\n",
              "                                              categories  \\\n",
              "1828       [Audio, Home Audio, Speakers, Floor Speakers]   \n",
              "15184                   [Appliances, Cleaning Solutions]   \n",
              "16096  [Wearable Technology, Apple Watch, Apple Watch...   \n",
              "11443  [Appliances, Washers & Dryers, Dryers, Gas Dry...   \n",
              "12846                           [Audio, FM Transmitters]   \n",
              "3466   [Office & School Supplies, Printer Ink & Toner...   \n",
              "8365         [Computers & Tablets, Tablets, All Tablets]   \n",
              "5445      [Appliances, Refrigerators, All Refrigerators]   \n",
              "10069   [Appliances, Ranges, Cooktops & Ovens, Cooktops]   \n",
              "2098               [Video Games, Minecraft Collectibles]   \n",
              "\n",
              "                                  hierarchicalCategories               type  \\\n",
              "1828   {'lvl0': 'Audio', 'lvl1': 'Audio > Home Audio'...     Floor speakers   \n",
              "15184  {'lvl0': 'Appliances', 'lvl1': 'Appliances > C...          Chemicals   \n",
              "16096  {'lvl0': 'Wearable Technology', 'lvl1': 'Weara...  Apple first party   \n",
              "11443  {'lvl0': 'Appliances', 'lvl1': 'Appliances > W...                      \n",
              "12846  {'lvl0': 'Audio', 'lvl1': 'Audio > FM Transmit...       Connectivity   \n",
              "3466   {'lvl0': 'Office & School Supplies', 'lvl1': '...             Toners   \n",
              "8365   {'lvl0': 'Computers & Tablets', 'lvl1': 'Compu...                      \n",
              "5445   {'lvl0': 'Appliances', 'lvl1': 'Appliances > R...                      \n",
              "10069  {'lvl0': 'Appliances', 'lvl1': 'Appliances > R...                      \n",
              "2098   {'lvl0': 'Video Games', 'lvl1': 'Video Games >...            Vg toys   \n",
              "\n",
              "         price price_range                                              image  \\\n",
              "1828    449.99   200 - 500  https://cdn-demo.algolia.com/bestbuy-0118/6228...   \n",
              "15184     9.99      1 - 50  https://cdn-demo.algolia.com/bestbuy-0118/5618...   \n",
              "16096    49.00      1 - 50  https://cdn-demo.algolia.com/bestbuy-0118/5531...   \n",
              "11443   899.99  500 - 2000  https://cdn-demo.algolia.com/bestbuy-0118/8784...   \n",
              "12846    39.99      1 - 50  https://cdn-demo.algolia.com/bestbuy-0118/6562...   \n",
              "3466     57.49    50 - 100  https://cdn-demo.algolia.com/bestbuy-0118/8668...   \n",
              "8365     94.99    50 - 100  https://cdn-demo.algolia.com/bestbuy-0118/4588...   \n",
              "5445    854.99  500 - 2000  https://cdn-demo.algolia.com/bestbuy-0118/7465...   \n",
              "10069  1169.99  500 - 2000  https://cdn-demo.algolia.com/bestbuy-0118/7176...   \n",
              "2098     12.99      1 - 50  https://cdn-demo.algolia.com/bestbuy-0118/5337...   \n",
              "\n",
              "                                               url  free_shipping  rating  \\\n",
              "1828   https://api.bestbuy.com/click/-/6228118/pdp           True       4   \n",
              "15184  https://api.bestbuy.com/click/-/5618011/pdp           True       5   \n",
              "16096  https://api.bestbuy.com/click/-/5531300/pdp           True       4   \n",
              "11443  https://api.bestbuy.com/click/-/8784431/pdp          False       0   \n",
              "12846  https://api.bestbuy.com/click/-/6562101/pdp           True       3   \n",
              "3466   https://api.bestbuy.com/click/-/8668783/pdp           True       4   \n",
              "8365   https://api.bestbuy.com/click/-/4588200/pdp           True       3   \n",
              "5445   https://api.bestbuy.com/click/-/7465127/pdp          False       4   \n",
              "10069  https://api.bestbuy.com/click/-/7176753/pdp          False       3   \n",
              "2098   https://api.bestbuy.com/click/-/5337000/pdp           True       4   \n",
              "\n",
              "       popularity  objectID  \n",
              "1828        19641   6228118  \n",
              "15184        6285   5618011  \n",
              "16096        5373   5531300  \n",
              "11443       10026   8784431  \n",
              "12846        8623   6562101  \n",
              "3466        18003   8668783  \n",
              "8365        13104   4588200  \n",
              "5445        16024   7465127  \n",
              "10069       11400   7176753  \n",
              "2098        19371   5337000  "
            ],
            "text/html": [
              "\n",
              "  <div id=\"df-625c17ed-1cac-437a-9dc9-a90231f5bea5\">\n",
              "    <div class=\"colab-df-container\">\n",
              "      <div>\n",
              "<style scoped>\n",
              "    .dataframe tbody tr th:only-of-type {\n",
              "        vertical-align: middle;\n",
              "    }\n",
              "\n",
              "    .dataframe tbody tr th {\n",
              "        vertical-align: top;\n",
              "    }\n",
              "\n",
              "    .dataframe thead th {\n",
              "        text-align: right;\n",
              "    }\n",
              "</style>\n",
              "<table border=\"1\" class=\"dataframe\">\n",
              "  <thead>\n",
              "    <tr style=\"text-align: right;\">\n",
              "      <th></th>\n",
              "      <th>name</th>\n",
              "      <th>description</th>\n",
              "      <th>brand</th>\n",
              "      <th>categories</th>\n",
              "      <th>hierarchicalCategories</th>\n",
              "      <th>type</th>\n",
              "      <th>price</th>\n",
              "      <th>price_range</th>\n",
              "      <th>image</th>\n",
              "      <th>url</th>\n",
              "      <th>free_shipping</th>\n",
              "      <th>rating</th>\n",
              "      <th>popularity</th>\n",
              "      <th>objectID</th>\n",
              "    </tr>\n",
              "  </thead>\n",
              "  <tbody>\n",
              "    <tr>\n",
              "      <th>1828</th>\n",
              "      <td>Klipsch - Reference Dual 8\" Floorstanding Spea...</td>\n",
              "      <td>Utilizing dual 8\" copper-spun IMG woofers and ...</td>\n",
              "      <td>Klipsch</td>\n",
              "      <td>[Audio, Home Audio, Speakers, Floor Speakers]</td>\n",
              "      <td>{'lvl0': 'Audio', 'lvl1': 'Audio &gt; Home Audio'...</td>\n",
              "      <td>Floor speakers</td>\n",
              "      <td>449.99</td>\n",
              "      <td>200 - 500</td>\n",
              "      <td>https://cdn-demo.algolia.com/bestbuy-0118/6228...</td>\n",
              "      <td>https://api.bestbuy.com/click/-/6228118/pdp</td>\n",
              "      <td>True</td>\n",
              "      <td>4</td>\n",
              "      <td>19641</td>\n",
              "      <td>6228118</td>\n",
              "    </tr>\n",
              "    <tr>\n",
              "      <th>15184</th>\n",
              "      <td>BISSELL - MultiSurface Floor Cleaning Formula ...</td>\n",
              "      <td>Remove dirt and grime from floors in one clean...</td>\n",
              "      <td>BISSELL</td>\n",
              "      <td>[Appliances, Cleaning Solutions]</td>\n",
              "      <td>{'lvl0': 'Appliances', 'lvl1': 'Appliances &gt; C...</td>\n",
              "      <td>Chemicals</td>\n",
              "      <td>9.99</td>\n",
              "      <td>1 - 50</td>\n",
              "      <td>https://cdn-demo.algolia.com/bestbuy-0118/5618...</td>\n",
              "      <td>https://api.bestbuy.com/click/-/5618011/pdp</td>\n",
              "      <td>True</td>\n",
              "      <td>5</td>\n",
              "      <td>6285</td>\n",
              "      <td>5618011</td>\n",
              "    </tr>\n",
              "    <tr>\n",
              "      <th>16096</th>\n",
              "      <td>Apple - Sport Band for Apple Watch 38mm - Cocoa</td>\n",
              "      <td>Made from high-performance fluoroelastomer,the...</td>\n",
              "      <td>Apple</td>\n",
              "      <td>[Wearable Technology, Apple Watch, Apple Watch...</td>\n",
              "      <td>{'lvl0': 'Wearable Technology', 'lvl1': 'Weara...</td>\n",
              "      <td>Apple first party</td>\n",
              "      <td>49.00</td>\n",
              "      <td>1 - 50</td>\n",
              "      <td>https://cdn-demo.algolia.com/bestbuy-0118/5531...</td>\n",
              "      <td>https://api.bestbuy.com/click/-/5531300/pdp</td>\n",
              "      <td>True</td>\n",
              "      <td>4</td>\n",
              "      <td>5373</td>\n",
              "      <td>5531300</td>\n",
              "    </tr>\n",
              "    <tr>\n",
              "      <th>11443</th>\n",
              "      <td>Whirlpool - Duet 7.4 Cu. Ft. 7-Cycle Gas Dryer...</td>\n",
              "      <td>Efficiently remove moisture from a variety of ...</td>\n",
              "      <td>Whirlpool</td>\n",
              "      <td>[Appliances, Washers &amp; Dryers, Dryers, Gas Dry...</td>\n",
              "      <td>{'lvl0': 'Appliances', 'lvl1': 'Appliances &gt; W...</td>\n",
              "      <td></td>\n",
              "      <td>899.99</td>\n",
              "      <td>500 - 2000</td>\n",
              "      <td>https://cdn-demo.algolia.com/bestbuy-0118/8784...</td>\n",
              "      <td>https://api.bestbuy.com/click/-/8784431/pdp</td>\n",
              "      <td>False</td>\n",
              "      <td>0</td>\n",
              "      <td>10026</td>\n",
              "      <td>8784431</td>\n",
              "    </tr>\n",
              "    <tr>\n",
              "      <th>12846</th>\n",
              "      <td>Insignia™ - Apple MFi Certified FM Transmitter...</td>\n",
              "      <td>Connect this Insignia&amp;#8482; NS-MA5FMT FM tran...</td>\n",
              "      <td>Insignia™</td>\n",
              "      <td>[Audio, FM Transmitters]</td>\n",
              "      <td>{'lvl0': 'Audio', 'lvl1': 'Audio &gt; FM Transmit...</td>\n",
              "      <td>Connectivity</td>\n",
              "      <td>39.99</td>\n",
              "      <td>1 - 50</td>\n",
              "      <td>https://cdn-demo.algolia.com/bestbuy-0118/6562...</td>\n",
              "      <td>https://api.bestbuy.com/click/-/6562101/pdp</td>\n",
              "      <td>True</td>\n",
              "      <td>3</td>\n",
              "      <td>8623</td>\n",
              "      <td>6562101</td>\n",
              "    </tr>\n",
              "    <tr>\n",
              "      <th>3466</th>\n",
              "      <td>Brother - TN330 Toner Cartridge - Black</td>\n",
              "      <td>Replace your depleted toner cartridge with thi...</td>\n",
              "      <td>Brother</td>\n",
              "      <td>[Office &amp; School Supplies, Printer Ink &amp; Toner...</td>\n",
              "      <td>{'lvl0': 'Office &amp; School Supplies', 'lvl1': '...</td>\n",
              "      <td>Toners</td>\n",
              "      <td>57.49</td>\n",
              "      <td>50 - 100</td>\n",
              "      <td>https://cdn-demo.algolia.com/bestbuy-0118/8668...</td>\n",
              "      <td>https://api.bestbuy.com/click/-/8668783/pdp</td>\n",
              "      <td>True</td>\n",
              "      <td>4</td>\n",
              "      <td>18003</td>\n",
              "      <td>8668783</td>\n",
              "    </tr>\n",
              "    <tr>\n",
              "      <th>8365</th>\n",
              "      <td>Visual Land - Prestige Elite 10QL - 10.1\" - Ta...</td>\n",
              "      <td>Visual Land Prestige Elite 10QL Tablet: Work, ...</td>\n",
              "      <td>Visual Land</td>\n",
              "      <td>[Computers &amp; Tablets, Tablets, All Tablets]</td>\n",
              "      <td>{'lvl0': 'Computers &amp; Tablets', 'lvl1': 'Compu...</td>\n",
              "      <td></td>\n",
              "      <td>94.99</td>\n",
              "      <td>50 - 100</td>\n",
              "      <td>https://cdn-demo.algolia.com/bestbuy-0118/4588...</td>\n",
              "      <td>https://api.bestbuy.com/click/-/4588200/pdp</td>\n",
              "      <td>True</td>\n",
              "      <td>3</td>\n",
              "      <td>13104</td>\n",
              "      <td>4588200</td>\n",
              "    </tr>\n",
              "    <tr>\n",
              "      <th>5445</th>\n",
              "      <td>LG - 20.2 Cu. Ft. Top-Freezer Refrigerator - S...</td>\n",
              "      <td>This LG LTCS20220W top-freezer refrigerator fe...</td>\n",
              "      <td>LG</td>\n",
              "      <td>[Appliances, Refrigerators, All Refrigerators]</td>\n",
              "      <td>{'lvl0': 'Appliances', 'lvl1': 'Appliances &gt; R...</td>\n",
              "      <td></td>\n",
              "      <td>854.99</td>\n",
              "      <td>500 - 2000</td>\n",
              "      <td>https://cdn-demo.algolia.com/bestbuy-0118/7465...</td>\n",
              "      <td>https://api.bestbuy.com/click/-/7465127/pdp</td>\n",
              "      <td>False</td>\n",
              "      <td>4</td>\n",
              "      <td>16024</td>\n",
              "      <td>7465127</td>\n",
              "    </tr>\n",
              "    <tr>\n",
              "      <th>10069</th>\n",
              "      <td>GE - Profile 36\" Built-in Gas Cooktop - Stainl...</td>\n",
              "      <td>Cooking large meals at once is what this cookt...</td>\n",
              "      <td>GE</td>\n",
              "      <td>[Appliances, Ranges, Cooktops &amp; Ovens, Cooktops]</td>\n",
              "      <td>{'lvl0': 'Appliances', 'lvl1': 'Appliances &gt; R...</td>\n",
              "      <td></td>\n",
              "      <td>1169.99</td>\n",
              "      <td>500 - 2000</td>\n",
              "      <td>https://cdn-demo.algolia.com/bestbuy-0118/7176...</td>\n",
              "      <td>https://api.bestbuy.com/click/-/7176753/pdp</td>\n",
              "      <td>False</td>\n",
              "      <td>3</td>\n",
              "      <td>11400</td>\n",
              "      <td>7176753</td>\n",
              "    </tr>\n",
              "    <tr>\n",
              "      <th>2098</th>\n",
              "      <td>Mattel - Minecraft 5-inch Figure - Multi</td>\n",
              "      <td>Let this Minecraft Exploding Creeper action fi...</td>\n",
              "      <td>Mattel</td>\n",
              "      <td>[Video Games, Minecraft Collectibles]</td>\n",
              "      <td>{'lvl0': 'Video Games', 'lvl1': 'Video Games &gt;...</td>\n",
              "      <td>Vg toys</td>\n",
              "      <td>12.99</td>\n",
              "      <td>1 - 50</td>\n",
              "      <td>https://cdn-demo.algolia.com/bestbuy-0118/5337...</td>\n",
              "      <td>https://api.bestbuy.com/click/-/5337000/pdp</td>\n",
              "      <td>True</td>\n",
              "      <td>4</td>\n",
              "      <td>19371</td>\n",
              "      <td>5337000</td>\n",
              "    </tr>\n",
              "  </tbody>\n",
              "</table>\n",
              "</div>\n",
              "      <button class=\"colab-df-convert\" onclick=\"convertToInteractive('df-625c17ed-1cac-437a-9dc9-a90231f5bea5')\"\n",
              "              title=\"Convert this dataframe to an interactive table.\"\n",
              "              style=\"display:none;\">\n",
              "        \n",
              "  <svg xmlns=\"http://www.w3.org/2000/svg\" height=\"24px\"viewBox=\"0 0 24 24\"\n",
              "       width=\"24px\">\n",
              "    <path d=\"M0 0h24v24H0V0z\" fill=\"none\"/>\n",
              "    <path d=\"M18.56 5.44l.94 2.06.94-2.06 2.06-.94-2.06-.94-.94-2.06-.94 2.06-2.06.94zm-11 1L8.5 8.5l.94-2.06 2.06-.94-2.06-.94L8.5 2.5l-.94 2.06-2.06.94zm10 10l.94 2.06.94-2.06 2.06-.94-2.06-.94-.94-2.06-.94 2.06-2.06.94z\"/><path d=\"M17.41 7.96l-1.37-1.37c-.4-.4-.92-.59-1.43-.59-.52 0-1.04.2-1.43.59L10.3 9.45l-7.72 7.72c-.78.78-.78 2.05 0 2.83L4 21.41c.39.39.9.59 1.41.59.51 0 1.02-.2 1.41-.59l7.78-7.78 2.81-2.81c.8-.78.8-2.07 0-2.86zM5.41 20L4 18.59l7.72-7.72 1.47 1.35L5.41 20z\"/>\n",
              "  </svg>\n",
              "      </button>\n",
              "      \n",
              "  <style>\n",
              "    .colab-df-container {\n",
              "      display:flex;\n",
              "      flex-wrap:wrap;\n",
              "      gap: 12px;\n",
              "    }\n",
              "\n",
              "    .colab-df-convert {\n",
              "      background-color: #E8F0FE;\n",
              "      border: none;\n",
              "      border-radius: 50%;\n",
              "      cursor: pointer;\n",
              "      display: none;\n",
              "      fill: #1967D2;\n",
              "      height: 32px;\n",
              "      padding: 0 0 0 0;\n",
              "      width: 32px;\n",
              "    }\n",
              "\n",
              "    .colab-df-convert:hover {\n",
              "      background-color: #E2EBFA;\n",
              "      box-shadow: 0px 1px 2px rgba(60, 64, 67, 0.3), 0px 1px 3px 1px rgba(60, 64, 67, 0.15);\n",
              "      fill: #174EA6;\n",
              "    }\n",
              "\n",
              "    [theme=dark] .colab-df-convert {\n",
              "      background-color: #3B4455;\n",
              "      fill: #D2E3FC;\n",
              "    }\n",
              "\n",
              "    [theme=dark] .colab-df-convert:hover {\n",
              "      background-color: #434B5C;\n",
              "      box-shadow: 0px 1px 3px 1px rgba(0, 0, 0, 0.15);\n",
              "      filter: drop-shadow(0px 1px 2px rgba(0, 0, 0, 0.3));\n",
              "      fill: #FFFFFF;\n",
              "    }\n",
              "  </style>\n",
              "\n",
              "      <script>\n",
              "        const buttonEl =\n",
              "          document.querySelector('#df-625c17ed-1cac-437a-9dc9-a90231f5bea5 button.colab-df-convert');\n",
              "        buttonEl.style.display =\n",
              "          google.colab.kernel.accessAllowed ? 'block' : 'none';\n",
              "\n",
              "        async function convertToInteractive(key) {\n",
              "          const element = document.querySelector('#df-625c17ed-1cac-437a-9dc9-a90231f5bea5');\n",
              "          const dataTable =\n",
              "            await google.colab.kernel.invokeFunction('convertToInteractive',\n",
              "                                                     [key], {});\n",
              "          if (!dataTable) return;\n",
              "\n",
              "          const docLinkHtml = 'Like what you see? Visit the ' +\n",
              "            '<a target=\"_blank\" href=https://colab.research.google.com/notebooks/data_table.ipynb>data table notebook</a>'\n",
              "            + ' to learn more about interactive tables.';\n",
              "          element.innerHTML = '';\n",
              "          dataTable['output_type'] = 'display_data';\n",
              "          await google.colab.output.renderOutput(dataTable, element);\n",
              "          const docLink = document.createElement('div');\n",
              "          docLink.innerHTML = docLinkHtml;\n",
              "          element.appendChild(docLink);\n",
              "        }\n",
              "      </script>\n",
              "    </div>\n",
              "  </div>\n",
              "  "
            ]
          },
          "metadata": {},
          "execution_count": 11
        }
      ]
    },
    {
      "cell_type": "code",
      "source": [
        "df.shape"
      ],
      "metadata": {
        "colab": {
          "base_uri": "https://localhost:8080/"
        },
        "id": "kjhVZj0T7LTx",
        "outputId": "1dccc8d8-0dec-4859-e05e-e88f74890851"
      },
      "execution_count": null,
      "outputs": [
        {
          "output_type": "execute_result",
          "data": {
            "text/plain": [
              "(21469, 14)"
            ]
          },
          "metadata": {},
          "execution_count": 7
        }
      ]
    },
    {
      "cell_type": "markdown",
      "source": [
        "# EDA"
      ],
      "metadata": {
        "id": "RQrjc4l77rZb"
      }
    },
    {
      "cell_type": "code",
      "source": [
        "df[\"brand\"].value_counts()"
      ],
      "metadata": {
        "colab": {
          "base_uri": "https://localhost:8080/"
        },
        "id": "bffFIFGu7c-Q",
        "outputId": "ad71a45e-ca0b-4f92-f64c-40735c231e0b"
      },
      "execution_count": null,
      "outputs": [
        {
          "output_type": "execute_result",
          "data": {
            "text/plain": [
              "Insignia™                746\n",
              "Samsung                  633\n",
              "Metra                    587\n",
              "HP                       530\n",
              "Apple                    442\n",
              "                        ... \n",
              "RPS                        1\n",
              "Sound World Solutions      1\n",
              "Juicy Couture              1\n",
              "Engino                     1\n",
              "Bern                       1\n",
              "Name: brand, Length: 1571, dtype: int64"
            ]
          },
          "metadata": {},
          "execution_count": 7
        }
      ]
    },
    {
      "cell_type": "markdown",
      "source": [
        "# Price Distribution"
      ],
      "metadata": {
        "id": "iakrOyVo-FA3"
      }
    },
    {
      "cell_type": "code",
      "source": [
        "df[\"price\"].plot(kind=\"hist\",figsize=(20,8))"
      ],
      "metadata": {
        "colab": {
          "base_uri": "https://localhost:8080/",
          "height": 501
        },
        "id": "NJv0nLeZ7yMJ",
        "outputId": "a67b08bd-3985-4f67-cf62-6dea225deae8"
      },
      "execution_count": null,
      "outputs": [
        {
          "output_type": "execute_result",
          "data": {
            "text/plain": [
              "<matplotlib.axes._subplots.AxesSubplot at 0x7f3f2b5b8e90>"
            ]
          },
          "metadata": {},
          "execution_count": 8
        },
        {
          "output_type": "display_data",
          "data": {
            "text/plain": [
              "<Figure size 1440x576 with 1 Axes>"
            ],
            "image/png": "[encoded data removed]"
          },
          "metadata": {
            "needs_background": "light"
          }
        }
      ]
    },
    {
      "cell_type": "markdown",
      "source": [
        "# Top Brand with price Values"
      ],
      "metadata": {
        "id": "HadR-1I--Bwn"
      }
    },
    {
      "cell_type": "code",
      "source": [
        "df.groupby([\"brand\",\"price\"]).sum().sort_values(\"popularity\",ascending=False).head(30)"
      ],
      "metadata": {
        "colab": {
          "base_uri": "https://localhost:8080/",
          "height": 1000
        },
        "id": "dbUzmaZM78kd",
        "outputId": "ea7d6273-70e6-4426-a3d6-daf52e044239"
      },
      "execution_count": null,
      "outputs": [
        {
          "output_type": "execute_result",
          "data": {
            "text/plain": [
              "                       free_shipping  rating  popularity    objectID\n",
              "brand          price                                                \n",
              "Metra          16.99             330    1128     1293870  1717165876\n",
              "Insignia™      19.99             105     430     1174596   611391749\n",
              "               14.99             106     423      966591   596823097\n",
              "               29.99              64     255      678735   360165645\n",
              "               9.99               48     214      482927   307512026\n",
              "               39.99              32     127      467725   177502684\n",
              "               12.99              58     236      461680   298283612\n",
              "Apple          699.99             23      96      436704   134895308\n",
              "Insignia™      24.99              44     178      433119   237692179\n",
              "Nintendo       12.99              21      90      415758   117810734\n",
              "Keurig         12.99              23      92      407116   126210500\n",
              "Platinum       39.99              58     226      404586   316077898\n",
              "Best Buy GC    15.00              24     108      398609   142390261\n",
              "Modal          19.99              51     212      365271   300645600\n",
              "Insignia™      49.99              24     103      351914   128373076\n",
              "Apple          499.99             16      82      334091   101451273\n",
              "GE             539.99              0      81      319248   102266522\n",
              "Hamilton Beach 49.99              22      88      310914   119781295\n",
              "               39.99              23      79      302905   129323736\n",
              "Samsung        349.99             17      64      299479    92615840\n",
              "Apple          799.99             15      60      298608    83713484\n",
              "Crane          49.99              17      70      297334    82875718\n",
              "Insignia™      7.99               32     128      293853   208518425\n",
              "Cuisinart      99.99              19      64      293802   131029504\n",
              "Hamilton Beach 34.99              19      75      293647   125588212\n",
              "OtterBox       49.99              40     193      293475   240347464\n",
              "Metra          49.99             108     306      288698   441454230\n",
              "Speck          39.99              45     201      280251   300645732\n",
              "Samsung        249.99             14      55      277072    81731063\n",
              "Epson          12.99              15      59      274217    92379774"
            ],
            "text/html": [
              "\n",
              "  <div id=\"df-a601f957-8725-473d-9341-181294002594\">\n",
              "    <div class=\"colab-df-container\">\n",
              "      <div>\n",
              "<style scoped>\n",
              "    .dataframe tbody tr th:only-of-type {\n",
              "        vertical-align: middle;\n",
              "    }\n",
              "\n",
              "    .dataframe tbody tr th {\n",
              "        vertical-align: top;\n",
              "    }\n",
              "\n",
              "    .dataframe thead th {\n",
              "        text-align: right;\n",
              "    }\n",
              "</style>\n",
              "<table border=\"1\" class=\"dataframe\">\n",
              "  <thead>\n",
              "    <tr style=\"text-align: right;\">\n",
              "      <th></th>\n",
              "      <th></th>\n",
              "      <th>free_shipping</th>\n",
              "      <th>rating</th>\n",
              "      <th>popularity</th>\n",
              "      <th>objectID</th>\n",
              "    </tr>\n",
              "    <tr>\n",
              "      <th>brand</th>\n",
              "      <th>price</th>\n",
              "      <th></th>\n",
              "      <th></th>\n",
              "      <th></th>\n",
              "      <th></th>\n",
              "    </tr>\n",
              "  </thead>\n",
              "  <tbody>\n",
              "    <tr>\n",
              "      <th>Metra</th>\n",
              "      <th>16.99</th>\n",
              "      <td>330</td>\n",
              "      <td>1128</td>\n",
              "      <td>1293870</td>\n",
              "      <td>1717165876</td>\n",
              "    </tr>\n",
              "    <tr>\n",
              "      <th rowspan=\"6\" valign=\"top\">Insignia™</th>\n",
              "      <th>19.99</th>\n",
              "      <td>105</td>\n",
              "      <td>430</td>\n",
              "      <td>1174596</td>\n",
              "      <td>611391749</td>\n",
              "    </tr>\n",
              "    <tr>\n",
              "      <th>14.99</th>\n",
              "      <td>106</td>\n",
              "      <td>423</td>\n",
              "      <td>966591</td>\n",
              "      <td>596823097</td>\n",
              "    </tr>\n",
              "    <tr>\n",
              "      <th>29.99</th>\n",
              "      <td>64</td>\n",
              "      <td>255</td>\n",
              "      <td>678735</td>\n",
              "      <td>360165645</td>\n",
              "    </tr>\n",
              "    <tr>\n",
              "      <th>9.99</th>\n",
              "      <td>48</td>\n",
              "      <td>214</td>\n",
              "      <td>482927</td>\n",
              "      <td>307512026</td>\n",
              "    </tr>\n",
              "    <tr>\n",
              "      <th>39.99</th>\n",
              "      <td>32</td>\n",
              "      <td>127</td>\n",
              "      <td>467725</td>\n",
              "      <td>177502684</td>\n",
              "    </tr>\n",
              "    <tr>\n",
              "      <th>12.99</th>\n",
              "      <td>58</td>\n",
              "      <td>236</td>\n",
              "      <td>461680</td>\n",
              "      <td>298283612</td>\n",
              "    </tr>\n",
              "    <tr>\n",
              "      <th>Apple</th>\n",
              "      <th>699.99</th>\n",
              "      <td>23</td>\n",
              "      <td>96</td>\n",
              "      <td>436704</td>\n",
              "      <td>134895308</td>\n",
              "    </tr>\n",
              "    <tr>\n",
              "      <th>Insignia™</th>\n",
              "      <th>24.99</th>\n",
              "      <td>44</td>\n",
              "      <td>178</td>\n",
              "      <td>433119</td>\n",
              "      <td>237692179</td>\n",
              "    </tr>\n",
              "    <tr>\n",
              "      <th>Nintendo</th>\n",
              "      <th>12.99</th>\n",
              "      <td>21</td>\n",
              "      <td>90</td>\n",
              "      <td>415758</td>\n",
              "      <td>117810734</td>\n",
              "    </tr>\n",
              "    <tr>\n",
              "      <th>Keurig</th>\n",
              "      <th>12.99</th>\n",
              "      <td>23</td>\n",
              "      <td>92</td>\n",
              "      <td>407116</td>\n",
              "      <td>126210500</td>\n",
              "    </tr>\n",
              "    <tr>\n",
              "      <th>Platinum</th>\n",
              "      <th>39.99</th>\n",
              "      <td>58</td>\n",
              "      <td>226</td>\n",
              "      <td>404586</td>\n",
              "      <td>316077898</td>\n",
              "    </tr>\n",
              "    <tr>\n",
              "      <th>Best Buy GC</th>\n",
              "      <th>15.00</th>\n",
              "      <td>24</td>\n",
              "      <td>108</td>\n",
              "      <td>398609</td>\n",
              "      <td>142390261</td>\n",
              "    </tr>\n",
              "    <tr>\n",
              "      <th>Modal</th>\n",
              "      <th>19.99</th>\n",
              "      <td>51</td>\n",
              "      <td>212</td>\n",
              "      <td>365271</td>\n",
              "      <td>300645600</td>\n",
              "    </tr>\n",
              "    <tr>\n",
              "      <th>Insignia™</th>\n",
              "      <th>49.99</th>\n",
              "      <td>24</td>\n",
              "      <td>103</td>\n",
              "      <td>351914</td>\n",
              "      <td>128373076</td>\n",
              "    </tr>\n",
              "    <tr>\n",
              "      <th>Apple</th>\n",
              "      <th>499.99</th>\n",
              "      <td>16</td>\n",
              "      <td>82</td>\n",
              "      <td>334091</td>\n",
              "      <td>101451273</td>\n",
              "    </tr>\n",
              "    <tr>\n",
              "      <th>GE</th>\n",
              "      <th>539.99</th>\n",
              "      <td>0</td>\n",
              "      <td>81</td>\n",
              "      <td>319248</td>\n",
              "      <td>102266522</td>\n",
              "    </tr>\n",
              "    <tr>\n",
              "      <th rowspan=\"2\" valign=\"top\">Hamilton Beach</th>\n",
              "      <th>49.99</th>\n",
              "      <td>22</td>\n",
              "      <td>88</td>\n",
              "      <td>310914</td>\n",
              "      <td>119781295</td>\n",
              "    </tr>\n",
              "    <tr>\n",
              "      <th>39.99</th>\n",
              "      <td>23</td>\n",
              "      <td>79</td>\n",
              "      <td>302905</td>\n",
              "      <td>129323736</td>\n",
              "    </tr>\n",
              "    <tr>\n",
              "      <th>Samsung</th>\n",
              "      <th>349.99</th>\n",
              "      <td>17</td>\n",
              "      <td>64</td>\n",
              "      <td>299479</td>\n",
              "      <td>92615840</td>\n",
              "    </tr>\n",
              "    <tr>\n",
              "      <th>Apple</th>\n",
              "      <th>799.99</th>\n",
              "      <td>15</td>\n",
              "      <td>60</td>\n",
              "      <td>298608</td>\n",
              "      <td>83713484</td>\n",
              "    </tr>\n",
              "    <tr>\n",
              "      <th>Crane</th>\n",
              "      <th>49.99</th>\n",
              "      <td>17</td>\n",
              "      <td>70</td>\n",
              "      <td>297334</td>\n",
              "      <td>82875718</td>\n",
              "    </tr>\n",
              "    <tr>\n",
              "      <th>Insignia™</th>\n",
              "      <th>7.99</th>\n",
              "      <td>32</td>\n",
              "      <td>128</td>\n",
              "      <td>293853</td>\n",
              "      <td>208518425</td>\n",
              "    </tr>\n",
              "    <tr>\n",
              "      <th>Cuisinart</th>\n",
              "      <th>99.99</th>\n",
              "      <td>19</td>\n",
              "      <td>64</td>\n",
              "      <td>293802</td>\n",
              "      <td>131029504</td>\n",
              "    </tr>\n",
              "    <tr>\n",
              "      <th>Hamilton Beach</th>\n",
              "      <th>34.99</th>\n",
              "      <td>19</td>\n",
              "      <td>75</td>\n",
              "      <td>293647</td>\n",
              "      <td>125588212</td>\n",
              "    </tr>\n",
              "    <tr>\n",
              "      <th>OtterBox</th>\n",
              "      <th>49.99</th>\n",
              "      <td>40</td>\n",
              "      <td>193</td>\n",
              "      <td>293475</td>\n",
              "      <td>240347464</td>\n",
              "    </tr>\n",
              "    <tr>\n",
              "      <th>Metra</th>\n",
              "      <th>49.99</th>\n",
              "      <td>108</td>\n",
              "      <td>306</td>\n",
              "      <td>288698</td>\n",
              "      <td>441454230</td>\n",
              "    </tr>\n",
              "    <tr>\n",
              "      <th>Speck</th>\n",
              "      <th>39.99</th>\n",
              "      <td>45</td>\n",
              "      <td>201</td>\n",
              "      <td>280251</td>\n",
              "      <td>300645732</td>\n",
              "    </tr>\n",
              "    <tr>\n",
              "      <th>Samsung</th>\n",
              "      <th>249.99</th>\n",
              "      <td>14</td>\n",
              "      <td>55</td>\n",
              "      <td>277072</td>\n",
              "      <td>81731063</td>\n",
              "    </tr>\n",
              "    <tr>\n",
              "      <th>Epson</th>\n",
              "      <th>12.99</th>\n",
              "      <td>15</td>\n",
              "      <td>59</td>\n",
              "      <td>274217</td>\n",
              "      <td>92379774</td>\n",
              "    </tr>\n",
              "  </tbody>\n",
              "</table>\n",
              "</div>\n",
              "      <button class=\"colab-df-convert\" onclick=\"convertToInteractive('df-a601f957-8725-473d-9341-181294002594')\"\n",
              "              title=\"Convert this dataframe to an interactive table.\"\n",
              "              style=\"display:none;\">\n",
              "        \n",
              "  <svg xmlns=\"http://www.w3.org/2000/svg\" height=\"24px\"viewBox=\"0 0 24 24\"\n",
              "       width=\"24px\">\n",
              "    <path d=\"M0 0h24v24H0V0z\" fill=\"none\"/>\n",
              "    <path d=\"M18.56 5.44l.94 2.06.94-2.06 2.06-.94-2.06-.94-.94-2.06-.94 2.06-2.06.94zm-11 1L8.5 8.5l.94-2.06 2.06-.94-2.06-.94L8.5 2.5l-.94 2.06-2.06.94zm10 10l.94 2.06.94-2.06 2.06-.94-2.06-.94-.94-2.06-.94 2.06-2.06.94z\"/><path d=\"M17.41 7.96l-1.37-1.37c-.4-.4-.92-.59-1.43-.59-.52 0-1.04.2-1.43.59L10.3 9.45l-7.72 7.72c-.78.78-.78 2.05 0 2.83L4 21.41c.39.39.9.59 1.41.59.51 0 1.02-.2 1.41-.59l7.78-7.78 2.81-2.81c.8-.78.8-2.07 0-2.86zM5.41 20L4 18.59l7.72-7.72 1.47 1.35L5.41 20z\"/>\n",
              "  </svg>\n",
              "      </button>\n",
              "      \n",
              "  <style>\n",
              "    .colab-df-container {\n",
              "      display:flex;\n",
              "      flex-wrap:wrap;\n",
              "      gap: 12px;\n",
              "    }\n",
              "\n",
              "    .colab-df-convert {\n",
              "      background-color: #E8F0FE;\n",
              "      border: none;\n",
              "      border-radius: 50%;\n",
              "      cursor: pointer;\n",
              "      display: none;\n",
              "      fill: #1967D2;\n",
              "      height: 32px;\n",
              "      padding: 0 0 0 0;\n",
              "      width: 32px;\n",
              "    }\n",
              "\n",
              "    .colab-df-convert:hover {\n",
              "      background-color: #E2EBFA;\n",
              "      box-shadow: 0px 1px 2px rgba(60, 64, 67, 0.3), 0px 1px 3px 1px rgba(60, 64, 67, 0.15);\n",
              "      fill: #174EA6;\n",
              "    }\n",
              "\n",
              "    [theme=dark] .colab-df-convert {\n",
              "      background-color: #3B4455;\n",
              "      fill: #D2E3FC;\n",
              "    }\n",
              "\n",
              "    [theme=dark] .colab-df-convert:hover {\n",
              "      background-color: #434B5C;\n",
              "      box-shadow: 0px 1px 3px 1px rgba(0, 0, 0, 0.15);\n",
              "      filter: drop-shadow(0px 1px 2px rgba(0, 0, 0, 0.3));\n",
              "      fill: #FFFFFF;\n",
              "    }\n",
              "  </style>\n",
              "\n",
              "      <script>\n",
              "        const buttonEl =\n",
              "          document.querySelector('#df-a601f957-8725-473d-9341-181294002594 button.colab-df-convert');\n",
              "        buttonEl.style.display =\n",
              "          google.colab.kernel.accessAllowed ? 'block' : 'none';\n",
              "\n",
              "        async function convertToInteractive(key) {\n",
              "          const element = document.querySelector('#df-a601f957-8725-473d-9341-181294002594');\n",
              "          const dataTable =\n",
              "            await google.colab.kernel.invokeFunction('convertToInteractive',\n",
              "                                                     [key], {});\n",
              "          if (!dataTable) return;\n",
              "\n",
              "          const docLinkHtml = 'Like what you see? Visit the ' +\n",
              "            '<a target=\"_blank\" href=https://colab.research.google.com/notebooks/data_table.ipynb>data table notebook</a>'\n",
              "            + ' to learn more about interactive tables.';\n",
              "          element.innerHTML = '';\n",
              "          dataTable['output_type'] = 'display_data';\n",
              "          await google.colab.output.renderOutput(dataTable, element);\n",
              "          const docLink = document.createElement('div');\n",
              "          docLink.innerHTML = docLinkHtml;\n",
              "          element.appendChild(docLink);\n",
              "        }\n",
              "      </script>\n",
              "    </div>\n",
              "  </div>\n",
              "  "
            ]
          },
          "metadata": {},
          "execution_count": 9
        }
      ]
    },
    {
      "cell_type": "markdown",
      "source": [
        "# Lects check Images "
      ],
      "metadata": {
        "id": "e6unzD1m-6bo"
      }
    },
    {
      "cell_type": "code",
      "source": [
        "!pip install ipyplot"
      ],
      "metadata": {
        "colab": {
          "base_uri": "https://localhost:8080/"
        },
        "id": "CfnxyQo5_K8J",
        "outputId": "45af99a8-dce7-45f7-a000-fb809da4b22e"
      },
      "execution_count": null,
      "outputs": [
        {
          "output_type": "stream",
          "name": "stdout",
          "text": [
            "Requirement already satisfied: ipyplot in /usr/local/lib/python3.7/dist-packages (1.1.1)\n",
            "Requirement already satisfied: IPython in /usr/local/lib/python3.7/dist-packages (from ipyplot) (5.5.0)\n",
            "Requirement already satisfied: pillow in /usr/local/lib/python3.7/dist-packages (from ipyplot) (7.1.2)\n",
            "Requirement already satisfied: numpy in /usr/local/lib/python3.7/dist-packages (from ipyplot) (1.21.6)\n",
            "Requirement already satisfied: shortuuid in /usr/local/lib/python3.7/dist-packages (from ipyplot) (1.0.8)\n",
            "Requirement already satisfied: pickleshare in /usr/local/lib/python3.7/dist-packages (from IPython->ipyplot) (0.7.5)\n",
            "Requirement already satisfied: traitlets>=4.2 in /usr/local/lib/python3.7/dist-packages (from IPython->ipyplot) (5.1.1)\n",
            "Requirement already satisfied: setuptools>=18.5 in /usr/local/lib/python3.7/dist-packages (from IPython->ipyplot) (57.4.0)\n",
            "Requirement already satisfied: pygments in /usr/local/lib/python3.7/dist-packages (from IPython->ipyplot) (2.6.1)\n",
            "Requirement already satisfied: simplegeneric>0.8 in /usr/local/lib/python3.7/dist-packages (from IPython->ipyplot) (0.8.1)\n",
            "Requirement already satisfied: decorator in /usr/local/lib/python3.7/dist-packages (from IPython->ipyplot) (4.4.2)\n",
            "Requirement already satisfied: pexpect in /usr/local/lib/python3.7/dist-packages (from IPython->ipyplot) (4.8.0)\n",
            "Requirement already satisfied: prompt-toolkit<2.0.0,>=1.0.4 in /usr/local/lib/python3.7/dist-packages (from IPython->ipyplot) (1.0.18)\n",
            "Requirement already satisfied: wcwidth in /usr/local/lib/python3.7/dist-packages (from prompt-toolkit<2.0.0,>=1.0.4->IPython->ipyplot) (0.2.5)\n",
            "Requirement already satisfied: six>=1.9.0 in /usr/local/lib/python3.7/dist-packages (from prompt-toolkit<2.0.0,>=1.0.4->IPython->ipyplot) (1.15.0)\n",
            "Requirement already satisfied: ptyprocess>=0.5 in /usr/local/lib/python3.7/dist-packages (from pexpect->IPython->ipyplot) (0.7.0)\n"
          ]
        }
      ]
    },
    {
      "cell_type": "code",
      "source": [
        "import ipyplot\n",
        "from PIL import Image"
      ],
      "metadata": {
        "id": "So5QgrWo_IRo"
      },
      "execution_count": null,
      "outputs": []
    },
    {
      "cell_type": "code",
      "source": [
        "df[\"image\"][0]"
      ],
      "metadata": {
        "colab": {
          "base_uri": "https://localhost:8080/",
          "height": 36
        },
        "id": "RafviVUU_fk9",
        "outputId": "13a1e465-5c4c-4e45-89f1-787ea27d05cd"
      },
      "execution_count": null,
      "outputs": [
        {
          "output_type": "execute_result",
          "data": {
            "text/plain": [
              "'https://cdn-demo.algolia.com/bestbuy-0118/5477500_sb.jpg'"
            ],
            "application/vnd.google.colaboratory.intrinsic+json": {
              "type": "string"
            }
          },
          "metadata": {},
          "execution_count": 15
        }
      ]
    },
    {
      "cell_type": "code",
      "source": [
        "!wget https://cdn-demo.algolia.com/bestbuy-0118/5477500_sb.jpg"
      ],
      "metadata": {
        "colab": {
          "base_uri": "https://localhost:8080/"
        },
        "id": "zTbzs7KkANH8",
        "outputId": "f0588ecd-c6cf-4362-c7c7-c7039ab33b80"
      },
      "execution_count": null,
      "outputs": [
        {
          "output_type": "stream",
          "name": "stdout",
          "text": [
            "--2022-05-01 17:45:21--  https://cdn-demo.algolia.com/bestbuy-0118/5477500_sb.jpg\n",
            "Resolving cdn-demo.algolia.com (cdn-demo.algolia.com)... 104.16.46.55, 104.16.45.55\n",
            "Connecting to cdn-demo.algolia.com (cdn-demo.algolia.com)|104.16.46.55|:443... connected.\n",
            "HTTP request sent, awaiting response... 200 OK\n",
            "Length: 12538 (12K) [image/jpeg]\n",
            "Saving to: ‘5477500_sb.jpg’\n",
            "\n",
            "5477500_sb.jpg      100%[===================>]  12.24K  --.-KB/s    in 0s      \n",
            "\n",
            "2022-05-01 17:45:21 (56.8 MB/s) - ‘5477500_sb.jpg’ saved [12538/12538]\n",
            "\n"
          ]
        }
      ]
    },
    {
      "cell_type": "code",
      "source": [
        "from IPython.display import Image\n",
        "Image('/content/5477500_sb.jpg')"
      ],
      "metadata": {
        "colab": {
          "base_uri": "https://localhost:8080/",
          "height": 115
        },
        "id": "qJngjiZpBHx9",
        "outputId": "76d0cfef-f6fa-407a-a32a-22ec31fea044"
      },
      "execution_count": null,
      "outputs": [
        {
          "output_type": "execute_result",
          "data": {
            "text/plain": [
              "<IPython.core.display.Image object>"
            ],
            "image/jpeg": "[encoded data removed]"
          },
          "metadata": {},
          "execution_count": 17
        }
      ]
    },
    {
      "cell_type": "markdown",
      "source": [
        "# NLP"
      ],
      "metadata": {
        "id": "Pa5HOyxBdoZo"
      }
    },
    {
      "cell_type": "code",
      "source": [
        "%%capture\n",
        "\n",
        "from txtai.embeddings import Embeddings\n",
        "\n",
        "# Create embeddings model, backed by sentence-transformers & transformers\n",
        "embeddings = Embeddings({\"path\": \"sentence-transformers/nli-mpnet-base-v2\"})"
      ],
      "metadata": {
        "id": "SoNKk6lAeG36"
      },
      "execution_count": null,
      "outputs": []
    },
    {
      "cell_type": "code",
      "source": [
        "df.sample(5)"
      ],
      "metadata": {
        "colab": {
          "base_uri": "https://localhost:8080/",
          "height": 738
        },
        "id": "3nuSFurDdsf4",
        "outputId": "79999cd8-5252-4f6e-bb49-7a8fad79494f"
      },
      "execution_count": null,
      "outputs": [
        {
          "output_type": "execute_result",
          "data": {
            "text/plain": [
              "                                                    name  \\\n",
              "7082   GE - 24\" Built-In Double Electric Wall Oven - ...   \n",
              "3547   Sony - Xperia X 4G LTE with 32GB Memory Cell P...   \n",
              "1028   Motorola - Moto Z Play 4G LTE with 32GB Memory...   \n",
              "5685   Shop-Vac - 5 Gallon Stainless Steel Wet/Dry Va...   \n",
              "17184  PDP - NFL Premium Face-Off Controller for Xbox...   \n",
              "\n",
              "                                             description     brand  \\\n",
              "7082   Cook for the whole family with this double ove...        GE   \n",
              "3547   Bring console games to your pocket with this S...      Sony   \n",
              "1028   Call friends and family on this Moto Z smartph...  Motorola   \n",
              "5685   Shop-Vac 5 gallon 4.5 peak HP stainless steel ...  Shop-Vac   \n",
              "17184  Take to the gridiron and score a touchdown wit...       PDP   \n",
              "\n",
              "                                              categories  \\\n",
              "7082   [Appliances, Ranges, Cooktops & Ovens, Wall Ov...   \n",
              "3547   [Cell Phones, Unlocked Cell Phones, All Unlock...   \n",
              "1028   [Cell Phones, Unlocked Cell Phones, All Unlock...   \n",
              "5685                                        [Appliances]   \n",
              "17184  [Video Games, Xbox One, Xbox One Accessories, ...   \n",
              "\n",
              "                                  hierarchicalCategories               type  \\\n",
              "7082   {'lvl0': 'Appliances', 'lvl1': 'Appliances > R...                      \n",
              "3547   {'lvl0': 'Cell Phones', 'lvl1': 'Cell Phones >...  Unlocked handsets   \n",
              "1028   {'lvl0': 'Cell Phones', 'lvl1': 'Cell Phones >...  Unlocked handsets   \n",
              "5685                              {'lvl0': 'Appliances'}                      \n",
              "17184  {'lvl0': 'Video Games', 'lvl1': 'Video Games >...   Xbx1 controllers   \n",
              "\n",
              "         price price_range                                              image  \\\n",
              "7082   1484.99  500 - 2000  https://cdn-demo.algolia.com/bestbuy-0118/6348...   \n",
              "3547    399.99   200 - 500  https://cdn-demo.algolia.com/bestbuy-0118/5336...   \n",
              "1028    449.99   200 - 500  https://cdn-demo.algolia.com/bestbuy-0118/5601...   \n",
              "5685     69.99    50 - 100  https://cdn-demo.algolia.com/bestbuy-0118/4472...   \n",
              "17184    59.99    50 - 100  https://cdn-demo.algolia.com/bestbuy-0118/5377...   \n",
              "\n",
              "                                               url  free_shipping  rating  \\\n",
              "7082   https://api.bestbuy.com/click/-/6348561/pdp          False       2   \n",
              "3547   https://api.bestbuy.com/click/-/5336917/pdp           True       3   \n",
              "1028   https://api.bestbuy.com/click/-/5601604/pdp           True       4   \n",
              "5685   https://api.bestbuy.com/click/-/4472168/pdp           True       4   \n",
              "17184  https://api.bestbuy.com/click/-/5377302/pdp           True       4   \n",
              "\n",
              "       popularity  objectID  \n",
              "7082        14387   6348561  \n",
              "3547        17922   5336917  \n",
              "1028        20441   5601604  \n",
              "5685        15784   4472168  \n",
              "17184        4285   5377302  "
            ],
            "text/html": [
              "\n",
              "  <div id=\"df-ff7af137-624d-4d1b-8abd-a4e8a571df79\">\n",
              "    <div class=\"colab-df-container\">\n",
              "      <div>\n",
              "<style scoped>\n",
              "    .dataframe tbody tr th:only-of-type {\n",
              "        vertical-align: middle;\n",
              "    }\n",
              "\n",
              "    .dataframe tbody tr th {\n",
              "        vertical-align: top;\n",
              "    }\n",
              "\n",
              "    .dataframe thead th {\n",
              "        text-align: right;\n",
              "    }\n",
              "</style>\n",
              "<table border=\"1\" class=\"dataframe\">\n",
              "  <thead>\n",
              "    <tr style=\"text-align: right;\">\n",
              "      <th></th>\n",
              "      <th>name</th>\n",
              "      <th>description</th>\n",
              "      <th>brand</th>\n",
              "      <th>categories</th>\n",
              "      <th>hierarchicalCategories</th>\n",
              "      <th>type</th>\n",
              "      <th>price</th>\n",
              "      <th>price_range</th>\n",
              "      <th>image</th>\n",
              "      <th>url</th>\n",
              "      <th>free_shipping</th>\n",
              "      <th>rating</th>\n",
              "      <th>popularity</th>\n",
              "      <th>objectID</th>\n",
              "    </tr>\n",
              "  </thead>\n",
              "  <tbody>\n",
              "    <tr>\n",
              "      <th>7082</th>\n",
              "      <td>GE - 24\" Built-In Double Electric Wall Oven - ...</td>\n",
              "      <td>Cook for the whole family with this double ove...</td>\n",
              "      <td>GE</td>\n",
              "      <td>[Appliances, Ranges, Cooktops &amp; Ovens, Wall Ov...</td>\n",
              "      <td>{'lvl0': 'Appliances', 'lvl1': 'Appliances &gt; R...</td>\n",
              "      <td></td>\n",
              "      <td>1484.99</td>\n",
              "      <td>500 - 2000</td>\n",
              "      <td>https://cdn-demo.algolia.com/bestbuy-0118/6348...</td>\n",
              "      <td>https://api.bestbuy.com/click/-/6348561/pdp</td>\n",
              "      <td>False</td>\n",
              "      <td>2</td>\n",
              "      <td>14387</td>\n",
              "      <td>6348561</td>\n",
              "    </tr>\n",
              "    <tr>\n",
              "      <th>3547</th>\n",
              "      <td>Sony - Xperia X 4G LTE with 32GB Memory Cell P...</td>\n",
              "      <td>Bring console games to your pocket with this S...</td>\n",
              "      <td>Sony</td>\n",
              "      <td>[Cell Phones, Unlocked Cell Phones, All Unlock...</td>\n",
              "      <td>{'lvl0': 'Cell Phones', 'lvl1': 'Cell Phones &gt;...</td>\n",
              "      <td>Unlocked handsets</td>\n",
              "      <td>399.99</td>\n",
              "      <td>200 - 500</td>\n",
              "      <td>https://cdn-demo.algolia.com/bestbuy-0118/5336...</td>\n",
              "      <td>https://api.bestbuy.com/click/-/5336917/pdp</td>\n",
              "      <td>True</td>\n",
              "      <td>3</td>\n",
              "      <td>17922</td>\n",
              "      <td>5336917</td>\n",
              "    </tr>\n",
              "    <tr>\n",
              "      <th>1028</th>\n",
              "      <td>Motorola - Moto Z Play 4G LTE with 32GB Memory...</td>\n",
              "      <td>Call friends and family on this Moto Z smartph...</td>\n",
              "      <td>Motorola</td>\n",
              "      <td>[Cell Phones, Unlocked Cell Phones, All Unlock...</td>\n",
              "      <td>{'lvl0': 'Cell Phones', 'lvl1': 'Cell Phones &gt;...</td>\n",
              "      <td>Unlocked handsets</td>\n",
              "      <td>449.99</td>\n",
              "      <td>200 - 500</td>\n",
              "      <td>https://cdn-demo.algolia.com/bestbuy-0118/5601...</td>\n",
              "      <td>https://api.bestbuy.com/click/-/5601604/pdp</td>\n",
              "      <td>True</td>\n",
              "      <td>4</td>\n",
              "      <td>20441</td>\n",
              "      <td>5601604</td>\n",
              "    </tr>\n",
              "    <tr>\n",
              "      <th>5685</th>\n",
              "      <td>Shop-Vac - 5 Gallon Stainless Steel Wet/Dry Va...</td>\n",
              "      <td>Shop-Vac 5 gallon 4.5 peak HP stainless steel ...</td>\n",
              "      <td>Shop-Vac</td>\n",
              "      <td>[Appliances]</td>\n",
              "      <td>{'lvl0': 'Appliances'}</td>\n",
              "      <td></td>\n",
              "      <td>69.99</td>\n",
              "      <td>50 - 100</td>\n",
              "      <td>https://cdn-demo.algolia.com/bestbuy-0118/4472...</td>\n",
              "      <td>https://api.bestbuy.com/click/-/4472168/pdp</td>\n",
              "      <td>True</td>\n",
              "      <td>4</td>\n",
              "      <td>15784</td>\n",
              "      <td>4472168</td>\n",
              "    </tr>\n",
              "    <tr>\n",
              "      <th>17184</th>\n",
              "      <td>PDP - NFL Premium Face-Off Controller for Xbox...</td>\n",
              "      <td>Take to the gridiron and score a touchdown wit...</td>\n",
              "      <td>PDP</td>\n",
              "      <td>[Video Games, Xbox One, Xbox One Accessories, ...</td>\n",
              "      <td>{'lvl0': 'Video Games', 'lvl1': 'Video Games &gt;...</td>\n",
              "      <td>Xbx1 controllers</td>\n",
              "      <td>59.99</td>\n",
              "      <td>50 - 100</td>\n",
              "      <td>https://cdn-demo.algolia.com/bestbuy-0118/5377...</td>\n",
              "      <td>https://api.bestbuy.com/click/-/5377302/pdp</td>\n",
              "      <td>True</td>\n",
              "      <td>4</td>\n",
              "      <td>4285</td>\n",
              "      <td>5377302</td>\n",
              "    </tr>\n",
              "  </tbody>\n",
              "</table>\n",
              "</div>\n",
              "      <button class=\"colab-df-convert\" onclick=\"convertToInteractive('df-ff7af137-624d-4d1b-8abd-a4e8a571df79')\"\n",
              "              title=\"Convert this dataframe to an interactive table.\"\n",
              "              style=\"display:none;\">\n",
              "        \n",
              "  <svg xmlns=\"http://www.w3.org/2000/svg\" height=\"24px\"viewBox=\"0 0 24 24\"\n",
              "       width=\"24px\">\n",
              "    <path d=\"M0 0h24v24H0V0z\" fill=\"none\"/>\n",
              "    <path d=\"M18.56 5.44l.94 2.06.94-2.06 2.06-.94-2.06-.94-.94-2.06-.94 2.06-2.06.94zm-11 1L8.5 8.5l.94-2.06 2.06-.94-2.06-.94L8.5 2.5l-.94 2.06-2.06.94zm10 10l.94 2.06.94-2.06 2.06-.94-2.06-.94-.94-2.06-.94 2.06-2.06.94z\"/><path d=\"M17.41 7.96l-1.37-1.37c-.4-.4-.92-.59-1.43-.59-.52 0-1.04.2-1.43.59L10.3 9.45l-7.72 7.72c-.78.78-.78 2.05 0 2.83L4 21.41c.39.39.9.59 1.41.59.51 0 1.02-.2 1.41-.59l7.78-7.78 2.81-2.81c.8-.78.8-2.07 0-2.86zM5.41 20L4 18.59l7.72-7.72 1.47 1.35L5.41 20z\"/>\n",
              "  </svg>\n",
              "      </button>\n",
              "      \n",
              "  <style>\n",
              "    .colab-df-container {\n",
              "      display:flex;\n",
              "      flex-wrap:wrap;\n",
              "      gap: 12px;\n",
              "    }\n",
              "\n",
              "    .colab-df-convert {\n",
              "      background-color: #E8F0FE;\n",
              "      border: none;\n",
              "      border-radius: 50%;\n",
              "      cursor: pointer;\n",
              "      display: none;\n",
              "      fill: #1967D2;\n",
              "      height: 32px;\n",
              "      padding: 0 0 0 0;\n",
              "      width: 32px;\n",
              "    }\n",
              "\n",
              "    .colab-df-convert:hover {\n",
              "      background-color: #E2EBFA;\n",
              "      box-shadow: 0px 1px 2px rgba(60, 64, 67, 0.3), 0px 1px 3px 1px rgba(60, 64, 67, 0.15);\n",
              "      fill: #174EA6;\n",
              "    }\n",
              "\n",
              "    [theme=dark] .colab-df-convert {\n",
              "      background-color: #3B4455;\n",
              "      fill: #D2E3FC;\n",
              "    }\n",
              "\n",
              "    [theme=dark] .colab-df-convert:hover {\n",
              "      background-color: #434B5C;\n",
              "      box-shadow: 0px 1px 3px 1px rgba(0, 0, 0, 0.15);\n",
              "      filter: drop-shadow(0px 1px 2px rgba(0, 0, 0, 0.3));\n",
              "      fill: #FFFFFF;\n",
              "    }\n",
              "  </style>\n",
              "\n",
              "      <script>\n",
              "        const buttonEl =\n",
              "          document.querySelector('#df-ff7af137-624d-4d1b-8abd-a4e8a571df79 button.colab-df-convert');\n",
              "        buttonEl.style.display =\n",
              "          google.colab.kernel.accessAllowed ? 'block' : 'none';\n",
              "\n",
              "        async function convertToInteractive(key) {\n",
              "          const element = document.querySelector('#df-ff7af137-624d-4d1b-8abd-a4e8a571df79');\n",
              "          const dataTable =\n",
              "            await google.colab.kernel.invokeFunction('convertToInteractive',\n",
              "                                                     [key], {});\n",
              "          if (!dataTable) return;\n",
              "\n",
              "          const docLinkHtml = 'Like what you see? Visit the ' +\n",
              "            '<a target=\"_blank\" href=https://colab.research.google.com/notebooks/data_table.ipynb>data table notebook</a>'\n",
              "            + ' to learn more about interactive tables.';\n",
              "          element.innerHTML = '';\n",
              "          dataTable['output_type'] = 'display_data';\n",
              "          await google.colab.output.renderOutput(dataTable, element);\n",
              "          const docLink = document.createElement('div');\n",
              "          docLink.innerHTML = docLinkHtml;\n",
              "          element.appendChild(docLink);\n",
              "        }\n",
              "      </script>\n",
              "    </div>\n",
              "  </div>\n",
              "  "
            ]
          },
          "metadata": {},
          "execution_count": 19
        }
      ]
    },
    {
      "cell_type": "code",
      "source": [
        "df[\"name\"] = df[\"name\"].str.lower()"
      ],
      "metadata": {
        "id": "hQZUWxBveCVq"
      },
      "execution_count": null,
      "outputs": []
    },
    {
      "cell_type": "code",
      "source": [
        "df.sample()"
      ],
      "metadata": {
        "colab": {
          "base_uri": "https://localhost:8080/",
          "height": 194
        },
        "id": "cqJNg51AeF5o",
        "outputId": "3e602fe3-6058-4a44-c685-a3e896a11b8f"
      },
      "execution_count": null,
      "outputs": [
        {
          "output_type": "execute_result",
          "data": {
            "text/plain": [
              "                                                    name  \\\n",
              "20123  incipio - [performance] series level 3 folio c...   \n",
              "\n",
              "                                             description    brand  \\\n",
              "20123  Take your Apple iPhone 6 Plus or 6s Plus on th...  Incipio   \n",
              "\n",
              "                                              categories  \\\n",
              "20123  [Cell Phones, Cell Phone Accessories, Cell Pho...   \n",
              "\n",
              "                                  hierarchicalCategories type  price  \\\n",
              "20123  {'lvl0': 'Cell Phones', 'lvl1': 'Cell Phones >...       39.99   \n",
              "\n",
              "      price_range                                              image  \\\n",
              "20123      1 - 50  https://cdn-demo.algolia.com/bestbuy-0118/4774...   \n",
              "\n",
              "                                               url  free_shipping  rating  \\\n",
              "20123  https://api.bestbuy.com/click/-/4774841/pdp           True       0   \n",
              "\n",
              "       popularity  objectID  \n",
              "20123        1346   4774841  "
            ],
            "text/html": [
              "\n",
              "  <div id=\"df-3ba79f4a-aa23-43f2-9238-7ae5668c7cd0\">\n",
              "    <div class=\"colab-df-container\">\n",
              "      <div>\n",
              "<style scoped>\n",
              "    .dataframe tbody tr th:only-of-type {\n",
              "        vertical-align: middle;\n",
              "    }\n",
              "\n",
              "    .dataframe tbody tr th {\n",
              "        vertical-align: top;\n",
              "    }\n",
              "\n",
              "    .dataframe thead th {\n",
              "        text-align: right;\n",
              "    }\n",
              "</style>\n",
              "<table border=\"1\" class=\"dataframe\">\n",
              "  <thead>\n",
              "    <tr style=\"text-align: right;\">\n",
              "      <th></th>\n",
              "      <th>name</th>\n",
              "      <th>description</th>\n",
              "      <th>brand</th>\n",
              "      <th>categories</th>\n",
              "      <th>hierarchicalCategories</th>\n",
              "      <th>type</th>\n",
              "      <th>price</th>\n",
              "      <th>price_range</th>\n",
              "      <th>image</th>\n",
              "      <th>url</th>\n",
              "      <th>free_shipping</th>\n",
              "      <th>rating</th>\n",
              "      <th>popularity</th>\n",
              "      <th>objectID</th>\n",
              "    </tr>\n",
              "  </thead>\n",
              "  <tbody>\n",
              "    <tr>\n",
              "      <th>20123</th>\n",
              "      <td>incipio - [performance] series level 3 folio c...</td>\n",
              "      <td>Take your Apple iPhone 6 Plus or 6s Plus on th...</td>\n",
              "      <td>Incipio</td>\n",
              "      <td>[Cell Phones, Cell Phone Accessories, Cell Pho...</td>\n",
              "      <td>{'lvl0': 'Cell Phones', 'lvl1': 'Cell Phones &gt;...</td>\n",
              "      <td></td>\n",
              "      <td>39.99</td>\n",
              "      <td>1 - 50</td>\n",
              "      <td>https://cdn-demo.algolia.com/bestbuy-0118/4774...</td>\n",
              "      <td>https://api.bestbuy.com/click/-/4774841/pdp</td>\n",
              "      <td>True</td>\n",
              "      <td>0</td>\n",
              "      <td>1346</td>\n",
              "      <td>4774841</td>\n",
              "    </tr>\n",
              "  </tbody>\n",
              "</table>\n",
              "</div>\n",
              "      <button class=\"colab-df-convert\" onclick=\"convertToInteractive('df-3ba79f4a-aa23-43f2-9238-7ae5668c7cd0')\"\n",
              "              title=\"Convert this dataframe to an interactive table.\"\n",
              "              style=\"display:none;\">\n",
              "        \n",
              "  <svg xmlns=\"http://www.w3.org/2000/svg\" height=\"24px\"viewBox=\"0 0 24 24\"\n",
              "       width=\"24px\">\n",
              "    <path d=\"M0 0h24v24H0V0z\" fill=\"none\"/>\n",
              "    <path d=\"M18.56 5.44l.94 2.06.94-2.06 2.06-.94-2.06-.94-.94-2.06-.94 2.06-2.06.94zm-11 1L8.5 8.5l.94-2.06 2.06-.94-2.06-.94L8.5 2.5l-.94 2.06-2.06.94zm10 10l.94 2.06.94-2.06 2.06-.94-2.06-.94-.94-2.06-.94 2.06-2.06.94z\"/><path d=\"M17.41 7.96l-1.37-1.37c-.4-.4-.92-.59-1.43-.59-.52 0-1.04.2-1.43.59L10.3 9.45l-7.72 7.72c-.78.78-.78 2.05 0 2.83L4 21.41c.39.39.9.59 1.41.59.51 0 1.02-.2 1.41-.59l7.78-7.78 2.81-2.81c.8-.78.8-2.07 0-2.86zM5.41 20L4 18.59l7.72-7.72 1.47 1.35L5.41 20z\"/>\n",
              "  </svg>\n",
              "      </button>\n",
              "      \n",
              "  <style>\n",
              "    .colab-df-container {\n",
              "      display:flex;\n",
              "      flex-wrap:wrap;\n",
              "      gap: 12px;\n",
              "    }\n",
              "\n",
              "    .colab-df-convert {\n",
              "      background-color: #E8F0FE;\n",
              "      border: none;\n",
              "      border-radius: 50%;\n",
              "      cursor: pointer;\n",
              "      display: none;\n",
              "      fill: #1967D2;\n",
              "      height: 32px;\n",
              "      padding: 0 0 0 0;\n",
              "      width: 32px;\n",
              "    }\n",
              "\n",
              "    .colab-df-convert:hover {\n",
              "      background-color: #E2EBFA;\n",
              "      box-shadow: 0px 1px 2px rgba(60, 64, 67, 0.3), 0px 1px 3px 1px rgba(60, 64, 67, 0.15);\n",
              "      fill: #174EA6;\n",
              "    }\n",
              "\n",
              "    [theme=dark] .colab-df-convert {\n",
              "      background-color: #3B4455;\n",
              "      fill: #D2E3FC;\n",
              "    }\n",
              "\n",
              "    [theme=dark] .colab-df-convert:hover {\n",
              "      background-color: #434B5C;\n",
              "      box-shadow: 0px 1px 3px 1px rgba(0, 0, 0, 0.15);\n",
              "      filter: drop-shadow(0px 1px 2px rgba(0, 0, 0, 0.3));\n",
              "      fill: #FFFFFF;\n",
              "    }\n",
              "  </style>\n",
              "\n",
              "      <script>\n",
              "        const buttonEl =\n",
              "          document.querySelector('#df-3ba79f4a-aa23-43f2-9238-7ae5668c7cd0 button.colab-df-convert');\n",
              "        buttonEl.style.display =\n",
              "          google.colab.kernel.accessAllowed ? 'block' : 'none';\n",
              "\n",
              "        async function convertToInteractive(key) {\n",
              "          const element = document.querySelector('#df-3ba79f4a-aa23-43f2-9238-7ae5668c7cd0');\n",
              "          const dataTable =\n",
              "            await google.colab.kernel.invokeFunction('convertToInteractive',\n",
              "                                                     [key], {});\n",
              "          if (!dataTable) return;\n",
              "\n",
              "          const docLinkHtml = 'Like what you see? Visit the ' +\n",
              "            '<a target=\"_blank\" href=https://colab.research.google.com/notebooks/data_table.ipynb>data table notebook</a>'\n",
              "            + ' to learn more about interactive tables.';\n",
              "          element.innerHTML = '';\n",
              "          dataTable['output_type'] = 'display_data';\n",
              "          await google.colab.output.renderOutput(dataTable, element);\n",
              "          const docLink = document.createElement('div');\n",
              "          docLink.innerHTML = docLinkHtml;\n",
              "          element.appendChild(docLink);\n",
              "        }\n",
              "      </script>\n",
              "    </div>\n",
              "  </div>\n",
              "  "
            ]
          },
          "metadata": {},
          "execution_count": 21
        }
      ]
    },
    {
      "cell_type": "code",
      "source": [
        "# # lets take 100 random names :\n",
        "\n",
        "# sample = df.sample(1000)\n",
        "# sample.reset_index(drop=True)\n",
        "\n",
        "sample = df.copy()"
      ],
      "metadata": {
        "id": "p4vlqBodeF2C"
      },
      "execution_count": null,
      "outputs": []
    },
    {
      "cell_type": "code",
      "source": [
        "sample_list = list(sample[\"name\"].values)"
      ],
      "metadata": {
        "id": "62DnqswLeFy_"
      },
      "execution_count": null,
      "outputs": []
    },
    {
      "cell_type": "code",
      "source": [
        "sample_list[:20]"
      ],
      "metadata": {
        "colab": {
          "base_uri": "https://localhost:8080/"
        },
        "id": "UsMXHUl4fDcx",
        "outputId": "a66b6669-1e27-4848-c540-0d20eb318f1a"
      },
      "execution_count": null,
      "outputs": [
        {
          "output_type": "execute_result",
          "data": {
            "text/plain": [
              "['amazon - fire tv stick with alexa voice remote - black',\n",
              " 'google - chromecast - black',\n",
              " 'dell - inspiron 15.6\" touch-screen laptop - intel core i5 - 6gb memory - 1tb hard drive - black',\n",
              " 'amazon - echo dot',\n",
              " 'apple - macbook air® (latest model) - 13.3\" display - intel core i5 - 8gb memory - 128gb flash storage - silver',\n",
              " 'sharp - 50\" class (49.5\" diag.) - led - 1080p - smart - hdtv roku tv - black',\n",
              " 'google - google home - white/slate fabric',\n",
              " 'apple - earpods™ with remote and mic - white',\n",
              " 'philips - hue a19 smart led light bulb - white only',\n",
              " 'nintendo - amiibo figure (the legend of zelda: breath of the wild series zelda)',\n",
              " 'nintendo - amiibo figure (the legend of zelda: breath of the wild series link (archer))',\n",
              " 'roku - express streaming media player - black',\n",
              " 'nintendo - amiibo figure (the legend of zelda: breath of the wild series link (rider))',\n",
              " 'rocketfish™ - tilting tv wall mount for most 32\"-70\" tvs - black',\n",
              " 'nintendo - amiibo figure (the legend of zelda: breath of the wild series guardian)',\n",
              " 'lg - ultra slim 8x max. dvd write speed external usb dvd±rw/cd-rw drive - black',\n",
              " 'sony - bdp-s3700 - streaming wi-fi built-in blu-ray player - black',\n",
              " 'insignia™ - 55\" class - (54.6\" diag.) - led - 1080p - hdtv - black',\n",
              " 'hp - 15.6\" laptop - amd a6-series - 4gb memory - 500gb hard drive - black',\n",
              " 'nintendo - amiibo figure (the legend of zelda: breath of the wild series bokoblin)']"
            ]
          },
          "metadata": {},
          "execution_count": 24
        }
      ]
    },
    {
      "cell_type": "code",
      "source": [
        "print(f\"So we have {len(sample_list)} samples in Total.\")"
      ],
      "metadata": {
        "colab": {
          "base_uri": "https://localhost:8080/"
        },
        "id": "goWjdZ7Gjhky",
        "outputId": "2e6628c0-2b7e-42fa-d209-a3ca527bf048"
      },
      "execution_count": null,
      "outputs": [
        {
          "output_type": "stream",
          "name": "stdout",
          "text": [
            "So we have 21469 samples in Total.\n"
          ]
        }
      ]
    },
    {
      "cell_type": "code",
      "source": [
        "# data = sample_list\n",
        "\n",
        "# print(\"%-20s %s\" % (\"Query\", \"Best Match\"))\n",
        "# print(\"-\" * 50)\n",
        "\n",
        "# for query in (\"wide toster\", \"iphone cover\", \n",
        "#               \"samsung dryer\", \"black ink hp\" , \n",
        "#               \"black mouse\",\"dell gaming laptop\",\n",
        "#               \"monitor for laptop\",\"100 mm lens for dslr\"):\n",
        "\n",
        "#     # Get index of best section that best matches query\n",
        "#     uid = embeddings.similarity(query, data)[0][0]\n",
        "\n",
        "#     print(\"%-20s %s\" % (query, data[uid]))\n"
      ],
      "metadata": {
        "id": "865yczIUevqf"
      },
      "execution_count": null,
      "outputs": []
    },
    {
      "cell_type": "markdown",
      "source": [
        "## lets save embeddings with content "
      ],
      "metadata": {
        "id": "XoVtClD6j5U-"
      }
    },
    {
      "cell_type": "code",
      "source": [
        "# Create embeddings index with content enabled. The default behavior is to only store indexed vectors.\n",
        "embeddings = Embeddings({\"path\": \"sentence-transformers/nli-mpnet-base-v2\", \"content\": True, \"objects\": True})\n",
        "\n",
        "# Create an index for the list of text\n",
        "embeddings.index([(uid, text, None) for uid, text in enumerate(data)])"
      ],
      "metadata": {
        "id": "BLu2Ci4Bhhox"
      },
      "execution_count": null,
      "outputs": []
    },
    {
      "cell_type": "code",
      "source": [
        "print(embeddings.search(\"dslr camera with f/5\", 1)[0][\"text\"])"
      ],
      "metadata": {
        "colab": {
          "base_uri": "https://localhost:8080/"
        },
        "id": "MzTjcgOVhhmj",
        "outputId": "0ab939ee-b335-47d4-c64a-df7e12043a1c"
      },
      "execution_count": null,
      "outputs": [
        {
          "output_type": "stream",
          "name": "stdout",
          "text": [
            "canon - eos rebel t6 dslr camera with ef-s 18-55mm f/3.5-5.6 is ii lens\n"
          ]
        }
      ]
    },
    {
      "cell_type": "code",
      "source": [
        "# del embeddings"
      ],
      "metadata": {
        "id": "z3gCWKT7i5Cd"
      },
      "execution_count": null,
      "outputs": []
    },
    {
      "cell_type": "code",
      "source": [
        "!pwd"
      ],
      "metadata": {
        "colab": {
          "base_uri": "https://localhost:8080/"
        },
        "id": "h3ek3YLlw5le",
        "outputId": "5ab04326-4323-4a20-a41f-8bcedfd2021f"
      },
      "execution_count": null,
      "outputs": [
        {
          "output_type": "stream",
          "name": "stdout",
          "text": [
            "/content\n"
          ]
        }
      ]
    },
    {
      "cell_type": "code",
      "source": [
        "embeddings.save(\"/content/final_for_demo\")"
      ],
      "metadata": {
        "id": "FB22IBCChNOz"
      },
      "execution_count": null,
      "outputs": []
    },
    {
      "cell_type": "code",
      "source": [
        "embeddings = Embeddings()\n",
        "embeddings.load(\"final_for_demo\")"
      ],
      "metadata": {
        "id": "6VAQ8nJiwif1"
      },
      "execution_count": null,
      "outputs": []
    },
    {
      "cell_type": "code",
      "source": [
        "Query = \"macbook pro m1 256\""
      ],
      "metadata": {
        "id": "fEE2gjW_kykT"
      },
      "execution_count": null,
      "outputs": []
    },
    {
      "cell_type": "code",
      "source": [
        "result = embeddings.search(Query, 1)[0][\"text\"]\n",
        "result"
      ],
      "metadata": {
        "colab": {
          "base_uri": "https://localhost:8080/",
          "height": 36
        },
        "id": "ecXc29Btg3_H",
        "outputId": "6b552917-3835-495e-c015-2c83d2a5b83a"
      },
      "execution_count": null,
      "outputs": [
        {
          "output_type": "execute_result",
          "data": {
            "text/plain": [
              "'apple - macbook pro®  - 13\" display - intel core i5 - 8 gb memory - 256gb flash storage (latest model) - space gray'"
            ],
            "application/vnd.google.colaboratory.intrinsic+json": {
              "type": "string"
            }
          },
          "metadata": {},
          "execution_count": 44
        }
      ]
    },
    {
      "cell_type": "code",
      "source": [
        "embeddings.search(Query, 5)"
      ],
      "metadata": {
        "colab": {
          "base_uri": "https://localhost:8080/"
        },
        "id": "Y-Pk6AB-eFwj",
        "outputId": "15b4c5da-7b81-4677-f502-d07d53d9561b"
      },
      "execution_count": null,
      "outputs": [
        {
          "output_type": "execute_result",
          "data": {
            "text/plain": [
              "[{'id': '101',\n",
              "  'score': 0.7876577973365784,\n",
              "  'text': 'apple - macbook pro®  - 13\" display - intel core i5 - 8 gb memory - 256gb flash storage (latest model) - space gray'},\n",
              " {'id': '171',\n",
              "  'score': 0.7697018980979919,\n",
              "  'text': 'apple - macbook® pro - 15.4\" display - intel core i7 - 16gb memory - 256gb flash storage - silver'},\n",
              " {'id': '527',\n",
              "  'score': 0.7638118267059326,\n",
              "  'text': 'apple - macbook® (latest model) - 12\" display - intel core m3 - 8gb memory - 256gb flash storage - space gray'},\n",
              " {'id': '27',\n",
              "  'score': 0.7635256052017212,\n",
              "  'text': 'apple - macbook pro with retina display - 13.3\" display - 8gb memory - 128gb flash storage - silver'},\n",
              " {'id': '2864',\n",
              "  'score': 0.7619287371635437,\n",
              "  'text': 'apple - macbook® pro - intel core i5 - 13.3\" display - 4gb memory - 500gb hard drive - silver'}]"
            ]
          },
          "metadata": {},
          "execution_count": 46
        }
      ]
    },
    {
      "cell_type": "code",
      "source": [
        "meta_data = df[[\"name\",\"image\"]]"
      ],
      "metadata": {
        "id": "gLa27v2wkqPD"
      },
      "execution_count": null,
      "outputs": []
    },
    {
      "cell_type": "code",
      "source": [
        "meta_data[meta_data['name'].isin(['apple - macbook pro®  - 13\" display - intel core i5 - 8 gb memory - 256gb flash storage (latest model) - space gray',\n",
        "                                  'speck - shell case for 13\" apple® macbook® pro - onyx black matte'])]"
      ],
      "metadata": {
        "colab": {
          "base_uri": "https://localhost:8080/",
          "height": 112
        },
        "id": "nHmkQvqJkqMX",
        "outputId": "2bf0fca3-4b59-4a6f-ec16-3674a3c56a8e"
      },
      "execution_count": null,
      "outputs": [
        {
          "output_type": "execute_result",
          "data": {
            "text/plain": [
              "                                                    name  \\\n",
              "101    apple - macbook pro®  - 13\" display - intel co...   \n",
              "13181  speck - shell case for 13\" apple® macbook® pro...   \n",
              "\n",
              "                                                   image  \n",
              "101    https://cdn-demo.algolia.com/bestbuy-0118/5465...  \n",
              "13181  https://cdn-demo.algolia.com/bestbuy-0118/8387...  "
            ],
            "text/html": [
              "\n",
              "  <div id=\"df-bc46f631-fc77-4607-9112-3de3db07ac0f\">\n",
              "    <div class=\"colab-df-container\">\n",
              "      <div>\n",
              "<style scoped>\n",
              "    .dataframe tbody tr th:only-of-type {\n",
              "        vertical-align: middle;\n",
              "    }\n",
              "\n",
              "    .dataframe tbody tr th {\n",
              "        vertical-align: top;\n",
              "    }\n",
              "\n",
              "    .dataframe thead th {\n",
              "        text-align: right;\n",
              "    }\n",
              "</style>\n",
              "<table border=\"1\" class=\"dataframe\">\n",
              "  <thead>\n",
              "    <tr style=\"text-align: right;\">\n",
              "      <th></th>\n",
              "      <th>name</th>\n",
              "      <th>image</th>\n",
              "    </tr>\n",
              "  </thead>\n",
              "  <tbody>\n",
              "    <tr>\n",
              "      <th>101</th>\n",
              "      <td>apple - macbook pro®  - 13\" display - intel co...</td>\n",
              "      <td>https://cdn-demo.algolia.com/bestbuy-0118/5465...</td>\n",
              "    </tr>\n",
              "    <tr>\n",
              "      <th>13181</th>\n",
              "      <td>speck - shell case for 13\" apple® macbook® pro...</td>\n",
              "      <td>https://cdn-demo.algolia.com/bestbuy-0118/8387...</td>\n",
              "    </tr>\n",
              "  </tbody>\n",
              "</table>\n",
              "</div>\n",
              "      <button class=\"colab-df-convert\" onclick=\"convertToInteractive('df-bc46f631-fc77-4607-9112-3de3db07ac0f')\"\n",
              "              title=\"Convert this dataframe to an interactive table.\"\n",
              "              style=\"display:none;\">\n",
              "        \n",
              "  <svg xmlns=\"http://www.w3.org/2000/svg\" height=\"24px\"viewBox=\"0 0 24 24\"\n",
              "       width=\"24px\">\n",
              "    <path d=\"M0 0h24v24H0V0z\" fill=\"none\"/>\n",
              "    <path d=\"M18.56 5.44l.94 2.06.94-2.06 2.06-.94-2.06-.94-.94-2.06-.94 2.06-2.06.94zm-11 1L8.5 8.5l.94-2.06 2.06-.94-2.06-.94L8.5 2.5l-.94 2.06-2.06.94zm10 10l.94 2.06.94-2.06 2.06-.94-2.06-.94-.94-2.06-.94 2.06-2.06.94z\"/><path d=\"M17.41 7.96l-1.37-1.37c-.4-.4-.92-.59-1.43-.59-.52 0-1.04.2-1.43.59L10.3 9.45l-7.72 7.72c-.78.78-.78 2.05 0 2.83L4 21.41c.39.39.9.59 1.41.59.51 0 1.02-.2 1.41-.59l7.78-7.78 2.81-2.81c.8-.78.8-2.07 0-2.86zM5.41 20L4 18.59l7.72-7.72 1.47 1.35L5.41 20z\"/>\n",
              "  </svg>\n",
              "      </button>\n",
              "      \n",
              "  <style>\n",
              "    .colab-df-container {\n",
              "      display:flex;\n",
              "      flex-wrap:wrap;\n",
              "      gap: 12px;\n",
              "    }\n",
              "\n",
              "    .colab-df-convert {\n",
              "      background-color: #E8F0FE;\n",
              "      border: none;\n",
              "      border-radius: 50%;\n",
              "      cursor: pointer;\n",
              "      display: none;\n",
              "      fill: #1967D2;\n",
              "      height: 32px;\n",
              "      padding: 0 0 0 0;\n",
              "      width: 32px;\n",
              "    }\n",
              "\n",
              "    .colab-df-convert:hover {\n",
              "      background-color: #E2EBFA;\n",
              "      box-shadow: 0px 1px 2px rgba(60, 64, 67, 0.3), 0px 1px 3px 1px rgba(60, 64, 67, 0.15);\n",
              "      fill: #174EA6;\n",
              "    }\n",
              "\n",
              "    [theme=dark] .colab-df-convert {\n",
              "      background-color: #3B4455;\n",
              "      fill: #D2E3FC;\n",
              "    }\n",
              "\n",
              "    [theme=dark] .colab-df-convert:hover {\n",
              "      background-color: #434B5C;\n",
              "      box-shadow: 0px 1px 3px 1px rgba(0, 0, 0, 0.15);\n",
              "      filter: drop-shadow(0px 1px 2px rgba(0, 0, 0, 0.3));\n",
              "      fill: #FFFFFF;\n",
              "    }\n",
              "  </style>\n",
              "\n",
              "      <script>\n",
              "        const buttonEl =\n",
              "          document.querySelector('#df-bc46f631-fc77-4607-9112-3de3db07ac0f button.colab-df-convert');\n",
              "        buttonEl.style.display =\n",
              "          google.colab.kernel.accessAllowed ? 'block' : 'none';\n",
              "\n",
              "        async function convertToInteractive(key) {\n",
              "          const element = document.querySelector('#df-bc46f631-fc77-4607-9112-3de3db07ac0f');\n",
              "          const dataTable =\n",
              "            await google.colab.kernel.invokeFunction('convertToInteractive',\n",
              "                                                     [key], {});\n",
              "          if (!dataTable) return;\n",
              "\n",
              "          const docLinkHtml = 'Like what you see? Visit the ' +\n",
              "            '<a target=\"_blank\" href=https://colab.research.google.com/notebooks/data_table.ipynb>data table notebook</a>'\n",
              "            + ' to learn more about interactive tables.';\n",
              "          element.innerHTML = '';\n",
              "          dataTable['output_type'] = 'display_data';\n",
              "          await google.colab.output.renderOutput(dataTable, element);\n",
              "          const docLink = document.createElement('div');\n",
              "          docLink.innerHTML = docLinkHtml;\n",
              "          element.appendChild(docLink);\n",
              "        }\n",
              "      </script>\n",
              "    </div>\n",
              "  </div>\n",
              "  "
            ]
          },
          "metadata": {},
          "execution_count": 71
        }
      ]
    },
    {
      "cell_type": "markdown",
      "source": [
        "# Inference "
      ],
      "metadata": {
        "id": "aKCSJTOtyAFz"
      }
    },
    {
      "cell_type": "code",
      "source": [
        "Query = input(\"Enter Query :\")\n",
        "RESULT = embeddings.search(Query, 5)\n",
        "\n",
        "print(\"=\"*100)\n",
        "print(\"Query : \",Query)\n",
        "print(\"=\"*100)\n",
        "\n",
        "for record in RESULT:\n",
        "  text = record[\"text\"]\n",
        "  score = record[\"score\"]\n",
        "  image_df = meta_data[meta_data['name'].isin([text])]\n",
        "\n",
        "  img = list(image_df[\"image\"].values)[0]\n",
        "  print(f\"Score [{score}] => {text} {img}\")\n",
        "\n",
        "print(\"=\"*100)"
      ],
      "metadata": {
        "colab": {
          "base_uri": "https://localhost:8080/"
        },
        "id": "JRbZYewgjJy8",
        "outputId": "328e6c02-4e02-4647-93c6-d0cb56e614b4"
      },
      "execution_count": null,
      "outputs": [
        {
          "output_type": "stream",
          "name": "stdout",
          "text": [
            "Enter Query :hp gaming laptop with 1tb hdd , 16gb ram and nividia 1000 + gpu\n",
            "====================================================================================================\n",
            "Query :  hp gaming laptop with 1tb hdd , 16gb ram and nividia 1000 + gpu\n",
            "====================================================================================================\n",
            "Score [0.8927289247512817] => hp - 17.3\" laptop - intel core i7 - 12gb memory - nvidia geforce gtx 1050 ti - 1tb hdd + 128gb ssd - black https://cdn-demo.algolia.com/bestbuy-0118/5712129_sb.jpg\n",
            "Score [0.8870417475700378] => hp - 15.6\" laptop - intel core i7 - 16gb memory - nvidia geforce gtx 960m - 1tb hard drive + 128gb solid state drive - charcoal wood, linear wood https://cdn-demo.algolia.com/bestbuy-0118/5365603_rb.jpg\n",
            "Score [0.8843212723731995] => hp - omen 15.6\" laptop -  intel core i7 - 8gb memory - nvidia geforce gtx 960m - 1tb hdd + 128gb ssd - onyx black https://cdn-demo.algolia.com/bestbuy-0118/5319600_sb.jpg\n",
            "Score [0.88104647397995] => hp - 17.3\" laptop - intel core i7 - 16gb memory - nvidia geforce gtx 960m - 1tb hard drive + 128gb solid state drive - charcoal wood, linear wood https://cdn-demo.algolia.com/bestbuy-0118/5365604_rb.jpg\n",
            "Score [0.8791697025299072] => hp - 17.3\" laptop - intel core i7 - 8gb memory - nvidia geforce gtx 1060 - 1tb hard drive + 128gb solid state drive - black https://cdn-demo.algolia.com/bestbuy-0118/5624476_sb.jpg\n",
            "====================================================================================================\n"
          ]
        }
      ]
    },
    {
      "cell_type": "markdown",
      "source": [
        "# Computer Vision + Image processing"
      ],
      "metadata": {
        "id": "ryX2nOaodcqV"
      }
    },
    {
      "cell_type": "code",
      "source": [
        "df[\"name\"][0]"
      ],
      "metadata": {
        "colab": {
          "base_uri": "https://localhost:8080/"
        },
        "id": "DB1ufQfZCA65",
        "outputId": "6d4b9eba-0e17-4e06-932f-9025d7a460d4"
      },
      "execution_count": null,
      "outputs": [
        {
          "output_type": "execute_result",
          "data": {
            "text/plain": [
              "'Amazon - Fire TV Stick with Alexa Voice Remote - Black'"
            ],
            "application/vnd.google.colaboratory.intrinsic+json": {
              "type": "string"
            }
          },
          "metadata": {},
          "execution_count": 14
        }
      ]
    },
    {
      "cell_type": "code",
      "source": [
        "%%capture\n",
        "\n",
        "import glob\n",
        "\n",
        "from PIL import Image\n",
        "\n",
        "from txtai.embeddings import Embeddings\n",
        "from txtai.pipeline import Caption\n",
        "\n",
        "def images():\n",
        "  # Create image caption pipeline\n",
        "  caption = Caption()\n",
        "\n",
        "  for path in glob.glob('txtai/*jpg'):\n",
        "    # Add image object along with image metadata\n",
        "    image = Image.open(path)\n",
        "    yield (path, {\"object\": image, \"format\": image.format, \"width\": image.width, \"height\": image.height, \"caption\": caption(image)}, None)\n",
        "\n",
        "# Index with content and objects\n",
        "embeddings = Embeddings({\"method\": \"sentence-transformers\", \"path\": \"sentence-transformers/clip-ViT-B-32\", \"content\": True, \"objects\": \"image\"})\n",
        "embeddings.index(images())"
      ],
      "metadata": {
        "id": "V_ypygwtC-6y"
      },
      "execution_count": null,
      "outputs": []
    },
    {
      "cell_type": "code",
      "source": [
        "embeddings.search(\"select id, object, format, width, height, caption from txtai\")"
      ],
      "metadata": {
        "colab": {
          "base_uri": "https://localhost:8080/"
        },
        "id": "9OOQ4Sz2DxXF",
        "outputId": "965d85fe-ac9a-4a41-ee3b-ef5b2f0bd7a9"
      },
      "execution_count": null,
      "outputs": [
        {
          "output_type": "execute_result",
          "data": {
            "text/plain": [
              "[{'caption': 'a book shelf filled with many books',\n",
              "  'format': 'JPEG',\n",
              "  'height': 682,\n",
              "  'id': 'txtai/books.jpg',\n",
              "  'object': <PIL.JpegImagePlugin.JpegImageFile image mode=RGB size=1024x682 at 0x7F0B9FEC56D0>,\n",
              "  'width': 1024},\n",
              " {'caption': 'a large building with many windows in a city',\n",
              "  'format': 'JPEG',\n",
              "  'height': 466,\n",
              "  'id': 'txtai/buildings.jpg',\n",
              "  'object': <PIL.JpegImagePlugin.JpegImageFile image mode=RGB size=700x466 at 0x7F0B9FEC5F10>,\n",
              "  'width': 700},\n",
              " {'caption': 'a bird is perched on top of a tree branch',\n",
              "  'format': 'JPEG',\n",
              "  'height': 466,\n",
              "  'id': 'txtai/chop.jpg',\n",
              "  'object': <PIL.JpegImagePlugin.JpegImageFile image mode=RGB size=700x466 at 0x7F0B9FEC5510>,\n",
              "  'width': 700}]"
            ]
          },
          "metadata": {},
          "execution_count": 16
        }
      ]
    },
    {
      "cell_type": "code",
      "source": [
        "import ipyplot\n",
        "from PIL import Image\n",
        "\n",
        "images, labels = [], []\n",
        "for query in [\"Walking into the office\", \"Saturday cleaning the yard\", \"Working on the latest analysis\", \"Working on my homework\", \"Watching an exciting race\",\n",
        "              \"The universe is massive\", \"Time lapse video of traffic\", \"Relaxing Thanksgiving day\"]:\n",
        "  result = embeddings.search(f\"select object from txtai where similar(\\\"{query}\\\")\", 1)[0]\n",
        "  images.append(result[\"object\"])\n",
        "  labels.append(query)\n",
        "\n",
        "ipyplot.plot_images(images, labels, img_width=425, force_b64=True)"
      ],
      "metadata": {
        "id": "B7vQ9VWjEfC9"
      },
      "execution_count": null,
      "outputs": []
    },
    {
      "cell_type": "markdown",
      "source": [
        "## Integrate above approch for our data"
      ],
      "metadata": {
        "id": "VkWBFSHwK5dk"
      }
    },
    {
      "cell_type": "code",
      "source": [
        "!pip install wget"
      ],
      "metadata": {
        "colab": {
          "base_uri": "https://localhost:8080/"
        },
        "id": "bE1wSweHMIFL",
        "outputId": "ae681f81-ad92-4d91-fb46-8d1b9f13e04c"
      },
      "execution_count": null,
      "outputs": [
        {
          "output_type": "stream",
          "name": "stdout",
          "text": [
            "Collecting wget\n",
            "  Downloading wget-3.2.zip (10 kB)\n",
            "Building wheels for collected packages: wget\n",
            "  Building wheel for wget (setup.py) ... \u001b[?25l\u001b[?25hdone\n",
            "  Created wheel for wget: filename=wget-3.2-py3-none-any.whl size=9675 sha256=57f031731168ab8d5735343ec246b67bad4ce70e4183a144b9909ac41ef554f8\n",
            "  Stored in directory: /root/.cache/pip/wheels/a1/b6/7c/0e63e34eb06634181c63adacca38b79ff8f35c37e3c13e3c02\n",
            "Successfully built wget\n",
            "Installing collected packages: wget\n",
            "Successfully installed wget-3.2\n"
          ]
        }
      ]
    },
    {
      "cell_type": "code",
      "source": [
        "!pwd"
      ],
      "metadata": {
        "colab": {
          "base_uri": "https://localhost:8080/"
        },
        "id": "_cB3FFjjEkZt",
        "outputId": "3a36c92b-7a21-4fc8-c7a9-a7c268a5ed84"
      },
      "execution_count": null,
      "outputs": [
        {
          "output_type": "stream",
          "name": "stdout",
          "text": [
            "/content\n"
          ]
        }
      ]
    },
    {
      "cell_type": "code",
      "source": [
        "%mkdir dataset"
      ],
      "metadata": {
        "id": "94JgaXnzK-6y"
      },
      "execution_count": null,
      "outputs": []
    },
    {
      "cell_type": "code",
      "source": [
        "!pwd dataset"
      ],
      "metadata": {
        "colab": {
          "base_uri": "https://localhost:8080/"
        },
        "id": "AoNtl0mxLBjr",
        "outputId": "860052b9-6b0c-478e-89fa-d31d55bcc4bb"
      },
      "execution_count": null,
      "outputs": [
        {
          "output_type": "stream",
          "name": "stdout",
          "text": [
            "/content\n"
          ]
        }
      ]
    },
    {
      "cell_type": "code",
      "source": [
        "%cd dataset"
      ],
      "metadata": {
        "colab": {
          "base_uri": "https://localhost:8080/"
        },
        "id": "YE2QmEm5NFAr",
        "outputId": "347bad8c-ff6e-46c6-c4a4-9eaaacce5c9d"
      },
      "execution_count": null,
      "outputs": [
        {
          "output_type": "stream",
          "name": "stdout",
          "text": [
            "/content/dataset\n"
          ]
        }
      ]
    },
    {
      "cell_type": "code",
      "source": [
        "df = df.sample(100)"
      ],
      "metadata": {
        "id": "KLMUCbvQLvv0"
      },
      "execution_count": null,
      "outputs": []
    },
    {
      "cell_type": "code",
      "source": [
        "df.shape"
      ],
      "metadata": {
        "colab": {
          "base_uri": "https://localhost:8080/"
        },
        "id": "d2XIM0TeLzg1",
        "outputId": "1b5ddcd1-d9f1-4363-87d1-6d1132b93ea1"
      },
      "execution_count": null,
      "outputs": [
        {
          "output_type": "execute_result",
          "data": {
            "text/plain": [
              "(100, 14)"
            ]
          },
          "metadata": {},
          "execution_count": 22
        }
      ]
    },
    {
      "cell_type": "code",
      "source": [
        "img_url = list(df[\"image\"].values)"
      ],
      "metadata": {
        "id": "9V_8Lc6LL0op"
      },
      "execution_count": null,
      "outputs": []
    },
    {
      "cell_type": "code",
      "source": [
        "df.head()"
      ],
      "metadata": {
        "id": "rEGAEXo8P9ze"
      },
      "execution_count": null,
      "outputs": []
    },
    {
      "cell_type": "code",
      "source": [
        "df[\"comb\"] = df[\"name\"] + \"~\" + df[\"image\"]"
      ],
      "metadata": {
        "id": "ErUkGD_IP9nY"
      },
      "execution_count": null,
      "outputs": []
    },
    {
      "cell_type": "code",
      "source": [
        "df = df.reset_index(drop=True)"
      ],
      "metadata": {
        "id": "USs7GOi7QaRV"
      },
      "execution_count": null,
      "outputs": []
    },
    {
      "cell_type": "code",
      "source": [
        "df[\"comb\"][0].split(\"~\")[0]"
      ],
      "metadata": {
        "colab": {
          "base_uri": "https://localhost:8080/",
          "height": 35
        },
        "id": "UHoebcz5Qfh6",
        "outputId": "058e0bef-c346-4244-d9b7-18d39139470f"
      },
      "execution_count": null,
      "outputs": [
        {
          "output_type": "execute_result",
          "data": {
            "text/plain": [
              "\"Chef'sChoice - KeepHot Thermal Electric Kettle - Black/Stainless Steel\""
            ],
            "application/vnd.google.colaboratory.intrinsic+json": {
              "type": "string"
            }
          },
          "metadata": {},
          "execution_count": 54
        }
      ]
    },
    {
      "cell_type": "code",
      "source": [
        "img_url = list(df[\"comb\"].values)\n",
        "img_url[:5]"
      ],
      "metadata": {
        "colab": {
          "base_uri": "https://localhost:8080/"
        },
        "id": "hfP67rt_SMel",
        "outputId": "91e02c5b-716a-47a2-c08f-366e58cee892"
      },
      "execution_count": null,
      "outputs": [
        {
          "output_type": "execute_result",
          "data": {
            "text/plain": [
              "[\"Chef'sChoice - KeepHot Thermal Electric Kettle - Black/Stainless Steel~https://cdn-demo.algolia.com/bestbuy-0118/4286415_rb.jpg\",\n",
              " 'Green Mountain Coffee - Green Mountain Coffee Seasonal Selections K-Cup Pods (18-Pack) - Multi~https://cdn-demo.algolia.com/bestbuy-0118/5562400_rb.jpg',\n",
              " 'Incipio - NGP Case for Apple® iPhone® 7 - Black/Translucent~https://cdn-demo.algolia.com/bestbuy-0118/5588076_sb.jpg',\n",
              " 'FoodSaver® - FreshSaver Vacuum Zipper 18 Quart Bags - Clear~https://cdn-demo.algolia.com/bestbuy-0118/4944711_rb.jpg',\n",
              " 'Sony - X1000 HD Action Camcorder - White~https://cdn-demo.algolia.com/bestbuy-0118/3337022_rb.jpg']"
            ]
          },
          "metadata": {},
          "execution_count": 61
        }
      ]
    },
    {
      "cell_type": "code",
      "source": [
        "!pwd"
      ],
      "metadata": {
        "colab": {
          "base_uri": "https://localhost:8080/"
        },
        "id": "n5Uni9q5c-eC",
        "outputId": "492de288-c2eb-4c54-a442-69af2ba1a8d2"
      },
      "execution_count": null,
      "outputs": [
        {
          "output_type": "stream",
          "name": "stdout",
          "text": [
            "/content/dataset\n"
          ]
        }
      ]
    },
    {
      "cell_type": "code",
      "source": [
        "import wget\n",
        "import time  # for sleep\n",
        "import os\n",
        "from tqdm import tqdm\n",
        "import shutil\n",
        "import requests\n",
        "import re\n",
        "\n",
        "for img in tqdm(img_url):\n",
        "\n",
        "  url=   img.split(\"~\")[1]\n",
        "  name = img.split(\"~\")[0]\n",
        "\n",
        "  name = re.sub(r'[^\\w\\s]','',name)\n",
        "\n",
        "  \n",
        "  response = requests.get(url, stream=True)\n",
        "  with open(f'{name}.jpg', 'wb') as out_file:\n",
        "      shutil.copyfileobj(response.raw, out_file)\n",
        "  del response\n"
      ],
      "metadata": {
        "colab": {
          "base_uri": "https://localhost:8080/"
        },
        "id": "jodthHMUL2TQ",
        "outputId": "2d122a38-3d68-44cb-da8b-3f40517c0f37"
      },
      "execution_count": null,
      "outputs": [
        {
          "output_type": "stream",
          "name": "stderr",
          "text": [
            "100%|██████████| 100/100 [00:15<00:00,  6.52it/s]\n"
          ]
        }
      ]
    },
    {
      "cell_type": "code",
      "source": [
        "# !rm -rf *"
      ],
      "metadata": {
        "id": "5K4LSVSmPEJP"
      },
      "execution_count": null,
      "outputs": []
    },
    {
      "cell_type": "code",
      "source": [
        "for path in glob.glob('*jpg'):\n",
        "  print(s)"
      ],
      "metadata": {
        "id": "lBA9WouWeTsf"
      },
      "execution_count": null,
      "outputs": []
    },
    {
      "cell_type": "code",
      "source": [
        "%%capture\n",
        "\n",
        "import glob\n",
        "\n",
        "from PIL import Image\n",
        "\n",
        "from txtai.embeddings import Embeddings\n",
        "from txtai.pipeline import Caption\n",
        "\n",
        "def images():\n",
        "  # Create image caption pipeline\n",
        "  caption = Caption()\n",
        "\n",
        "  for path in tqdm(glob.glob('*jpg')):\n",
        "\n",
        "    # Add image object along with image metadata\n",
        "    CAPTION = path.split(\".\")[0]\n",
        "\n",
        "    # IMAGE\n",
        "    image = Image.open(path)\n",
        "\n",
        "    yield (path, {\"object\": image, \"format\": image.format, \"width\": image.width, \"height\": image.height}, None)\n",
        "\n",
        "# Index with content and objects\n",
        "embeddings = Embeddings({\"method\": \"sentence-transformers\", \"path\": \"sentence-transformers/clip-ViT-B-32\", \"content\": False, \"objects\": \"image\"})\n",
        "embeddings.index(images())"
      ],
      "metadata": {
        "id": "7pA1l90lN3rT"
      },
      "execution_count": null,
      "outputs": []
    },
    {
      "cell_type": "code",
      "source": [
        ""
      ],
      "metadata": {
        "id": "yS0uNn6jfAi5"
      },
      "execution_count": null,
      "outputs": []
    }
  ]
}